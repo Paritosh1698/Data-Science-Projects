{
 "cells": [
  {
   "cell_type": "markdown",
   "id": "instrumental-judge",
   "metadata": {},
   "source": [
    "# Housing Price Index Prediction "
   ]
  },
  {
   "cell_type": "markdown",
   "id": "oriented-thompson",
   "metadata": {},
   "source": [
    "The Key Supply and Demand Factors utilized are:\n",
    "#### 1) Demand:-\n",
    "    -> GDP\n",
    "    -> Employment-ratio\n",
    "    -> 30-Years Fixed Mortgage rates\n",
    "    -> Homeownership rates\n",
    "#### 2) Supply:-\n",
    "    -> Monthly Supply of Houses\n",
    "    -> New One Family Houses Sold\n",
    "    -> New Homes for Sale\n",
    "    -> Homeowner Vaccancy Rate\n",
    "\n",
    "All the Datasets have been imported in quaterly frequency for last two decades from FRED Economic Data."
   ]
  },
  {
   "cell_type": "code",
   "execution_count": 1,
   "id": "banned-ranking",
   "metadata": {},
   "outputs": [],
   "source": [
    "import pandas as pd"
   ]
  },
  {
   "cell_type": "markdown",
   "id": "configured-matrix",
   "metadata": {},
   "source": [
    "### Demand Data"
   ]
  },
  {
   "cell_type": "code",
   "execution_count": 2,
   "id": "retained-climate",
   "metadata": {},
   "outputs": [
    {
     "data": {
      "text/html": [
       "<div>\n",
       "<style scoped>\n",
       "    .dataframe tbody tr th:only-of-type {\n",
       "        vertical-align: middle;\n",
       "    }\n",
       "\n",
       "    .dataframe tbody tr th {\n",
       "        vertical-align: top;\n",
       "    }\n",
       "\n",
       "    .dataframe thead th {\n",
       "        text-align: right;\n",
       "    }\n",
       "</style>\n",
       "<table border=\"1\" class=\"dataframe\">\n",
       "  <thead>\n",
       "    <tr style=\"text-align: right;\">\n",
       "      <th></th>\n",
       "      <th>GDP</th>\n",
       "    </tr>\n",
       "    <tr>\n",
       "      <th>DATE</th>\n",
       "      <th></th>\n",
       "    </tr>\n",
       "  </thead>\n",
       "  <tbody>\n",
       "    <tr>\n",
       "      <th>2000-10-01</th>\n",
       "      <td>10439.025</td>\n",
       "    </tr>\n",
       "    <tr>\n",
       "      <th>2001-01-01</th>\n",
       "      <td>10472.879</td>\n",
       "    </tr>\n",
       "    <tr>\n",
       "      <th>2001-04-01</th>\n",
       "      <td>10597.822</td>\n",
       "    </tr>\n",
       "    <tr>\n",
       "      <th>2001-07-01</th>\n",
       "      <td>10596.294</td>\n",
       "    </tr>\n",
       "    <tr>\n",
       "      <th>2001-10-01</th>\n",
       "      <td>10660.294</td>\n",
       "    </tr>\n",
       "  </tbody>\n",
       "</table>\n",
       "</div>"
      ],
      "text/plain": [
       "                  GDP\n",
       "DATE                 \n",
       "2000-10-01  10439.025\n",
       "2001-01-01  10472.879\n",
       "2001-04-01  10597.822\n",
       "2001-07-01  10596.294\n",
       "2001-10-01  10660.294"
      ]
     },
     "execution_count": 2,
     "metadata": {},
     "output_type": "execute_result"
    }
   ],
   "source": [
    "gdp = pd.read_csv(r'C:\\Users\\Paritosh\\Desktop\\Home.LLC\\Datasets\\Demand\\GDP.csv', index_col='DATE', parse_dates=True)\n",
    "gdp.head()"
   ]
  },
  {
   "cell_type": "code",
   "execution_count": 3,
   "id": "mature-coverage",
   "metadata": {},
   "outputs": [
    {
     "data": {
      "text/html": [
       "<div>\n",
       "<style scoped>\n",
       "    .dataframe tbody tr th:only-of-type {\n",
       "        vertical-align: middle;\n",
       "    }\n",
       "\n",
       "    .dataframe tbody tr th {\n",
       "        vertical-align: top;\n",
       "    }\n",
       "\n",
       "    .dataframe thead th {\n",
       "        text-align: right;\n",
       "    }\n",
       "</style>\n",
       "<table border=\"1\" class=\"dataframe\">\n",
       "  <thead>\n",
       "    <tr style=\"text-align: right;\">\n",
       "      <th></th>\n",
       "      <th>EMRATIO</th>\n",
       "    </tr>\n",
       "    <tr>\n",
       "      <th>DATE</th>\n",
       "      <th></th>\n",
       "    </tr>\n",
       "  </thead>\n",
       "  <tbody>\n",
       "    <tr>\n",
       "      <th>2000-10-01</th>\n",
       "      <td>64.300000</td>\n",
       "    </tr>\n",
       "    <tr>\n",
       "      <th>2001-01-01</th>\n",
       "      <td>64.333333</td>\n",
       "    </tr>\n",
       "    <tr>\n",
       "      <th>2001-04-01</th>\n",
       "      <td>63.833333</td>\n",
       "    </tr>\n",
       "    <tr>\n",
       "      <th>2001-07-01</th>\n",
       "      <td>63.466667</td>\n",
       "    </tr>\n",
       "    <tr>\n",
       "      <th>2001-10-01</th>\n",
       "      <td>63.033333</td>\n",
       "    </tr>\n",
       "  </tbody>\n",
       "</table>\n",
       "</div>"
      ],
      "text/plain": [
       "              EMRATIO\n",
       "DATE                 \n",
       "2000-10-01  64.300000\n",
       "2001-01-01  64.333333\n",
       "2001-04-01  63.833333\n",
       "2001-07-01  63.466667\n",
       "2001-10-01  63.033333"
      ]
     },
     "execution_count": 3,
     "metadata": {},
     "output_type": "execute_result"
    }
   ],
   "source": [
    "emp_ratio = pd.read_csv(r'C:\\Users\\Paritosh\\Desktop\\Home.LLC\\Datasets\\Demand\\Employment Ratio.csv', index_col='DATE', parse_dates=True)\n",
    "emp_ratio.head()"
   ]
  },
  {
   "cell_type": "code",
   "execution_count": 4,
   "id": "three-uniform",
   "metadata": {},
   "outputs": [
    {
     "data": {
      "text/html": [
       "<div>\n",
       "<style scoped>\n",
       "    .dataframe tbody tr th:only-of-type {\n",
       "        vertical-align: middle;\n",
       "    }\n",
       "\n",
       "    .dataframe tbody tr th {\n",
       "        vertical-align: top;\n",
       "    }\n",
       "\n",
       "    .dataframe thead th {\n",
       "        text-align: right;\n",
       "    }\n",
       "</style>\n",
       "<table border=\"1\" class=\"dataframe\">\n",
       "  <thead>\n",
       "    <tr style=\"text-align: right;\">\n",
       "      <th></th>\n",
       "      <th>RHORUSQ156N</th>\n",
       "    </tr>\n",
       "    <tr>\n",
       "      <th>DATE</th>\n",
       "      <th></th>\n",
       "    </tr>\n",
       "  </thead>\n",
       "  <tbody>\n",
       "    <tr>\n",
       "      <th>2000-10-01</th>\n",
       "      <td>67.5</td>\n",
       "    </tr>\n",
       "    <tr>\n",
       "      <th>2001-01-01</th>\n",
       "      <td>67.5</td>\n",
       "    </tr>\n",
       "    <tr>\n",
       "      <th>2001-04-01</th>\n",
       "      <td>67.7</td>\n",
       "    </tr>\n",
       "    <tr>\n",
       "      <th>2001-07-01</th>\n",
       "      <td>68.1</td>\n",
       "    </tr>\n",
       "    <tr>\n",
       "      <th>2001-10-01</th>\n",
       "      <td>68.0</td>\n",
       "    </tr>\n",
       "  </tbody>\n",
       "</table>\n",
       "</div>"
      ],
      "text/plain": [
       "            RHORUSQ156N\n",
       "DATE                   \n",
       "2000-10-01         67.5\n",
       "2001-01-01         67.5\n",
       "2001-04-01         67.7\n",
       "2001-07-01         68.1\n",
       "2001-10-01         68.0"
      ]
     },
     "execution_count": 4,
     "metadata": {},
     "output_type": "execute_result"
    }
   ],
   "source": [
    "ownership_rate = pd.read_csv(r'C:\\Users\\Paritosh\\Desktop\\Home.LLC\\Datasets\\Demand\\Homeownership Rate.csv', index_col='DATE', parse_dates=True)\n",
    "ownership_rate.head()"
   ]
  },
  {
   "cell_type": "code",
   "execution_count": 5,
   "id": "eight-broad",
   "metadata": {},
   "outputs": [
    {
     "data": {
      "text/html": [
       "<div>\n",
       "<style scoped>\n",
       "    .dataframe tbody tr th:only-of-type {\n",
       "        vertical-align: middle;\n",
       "    }\n",
       "\n",
       "    .dataframe tbody tr th {\n",
       "        vertical-align: top;\n",
       "    }\n",
       "\n",
       "    .dataframe thead th {\n",
       "        text-align: right;\n",
       "    }\n",
       "</style>\n",
       "<table border=\"1\" class=\"dataframe\">\n",
       "  <thead>\n",
       "    <tr style=\"text-align: right;\">\n",
       "      <th></th>\n",
       "      <th>MORTGAGE30US</th>\n",
       "    </tr>\n",
       "    <tr>\n",
       "      <th>DATE</th>\n",
       "      <th></th>\n",
       "    </tr>\n",
       "  </thead>\n",
       "  <tbody>\n",
       "    <tr>\n",
       "      <th>2000-10-01</th>\n",
       "      <td>7.620769</td>\n",
       "    </tr>\n",
       "    <tr>\n",
       "      <th>2001-01-01</th>\n",
       "      <td>7.006923</td>\n",
       "    </tr>\n",
       "    <tr>\n",
       "      <th>2001-04-01</th>\n",
       "      <td>7.130000</td>\n",
       "    </tr>\n",
       "    <tr>\n",
       "      <th>2001-07-01</th>\n",
       "      <td>6.963846</td>\n",
       "    </tr>\n",
       "    <tr>\n",
       "      <th>2001-10-01</th>\n",
       "      <td>6.770769</td>\n",
       "    </tr>\n",
       "  </tbody>\n",
       "</table>\n",
       "</div>"
      ],
      "text/plain": [
       "            MORTGAGE30US\n",
       "DATE                    \n",
       "2000-10-01      7.620769\n",
       "2001-01-01      7.006923\n",
       "2001-04-01      7.130000\n",
       "2001-07-01      6.963846\n",
       "2001-10-01      6.770769"
      ]
     },
     "execution_count": 5,
     "metadata": {},
     "output_type": "execute_result"
    }
   ],
   "source": [
    "mortgage_rate = pd.read_csv(r'C:\\Users\\Paritosh\\Desktop\\Home.LLC\\Datasets\\Demand\\Mortgage Rate.csv', index_col='DATE', parse_dates=True)\n",
    "mortgage_rate.head()"
   ]
  },
  {
   "cell_type": "code",
   "execution_count": 6,
   "id": "specific-consideration",
   "metadata": {},
   "outputs": [
    {
     "data": {
      "text/html": [
       "<div>\n",
       "<style scoped>\n",
       "    .dataframe tbody tr th:only-of-type {\n",
       "        vertical-align: middle;\n",
       "    }\n",
       "\n",
       "    .dataframe tbody tr th {\n",
       "        vertical-align: top;\n",
       "    }\n",
       "\n",
       "    .dataframe thead th {\n",
       "        text-align: right;\n",
       "    }\n",
       "</style>\n",
       "<table border=\"1\" class=\"dataframe\">\n",
       "  <thead>\n",
       "    <tr style=\"text-align: right;\">\n",
       "      <th></th>\n",
       "      <th>GDP</th>\n",
       "      <th>EMRATIO</th>\n",
       "      <th>RHORUSQ156N</th>\n",
       "      <th>MORTGAGE30US</th>\n",
       "    </tr>\n",
       "    <tr>\n",
       "      <th>DATE</th>\n",
       "      <th></th>\n",
       "      <th></th>\n",
       "      <th></th>\n",
       "      <th></th>\n",
       "    </tr>\n",
       "  </thead>\n",
       "  <tbody>\n",
       "    <tr>\n",
       "      <th>2000-10-01</th>\n",
       "      <td>10439.025</td>\n",
       "      <td>64.300000</td>\n",
       "      <td>67.5</td>\n",
       "      <td>7.620769</td>\n",
       "    </tr>\n",
       "    <tr>\n",
       "      <th>2001-01-01</th>\n",
       "      <td>10472.879</td>\n",
       "      <td>64.333333</td>\n",
       "      <td>67.5</td>\n",
       "      <td>7.006923</td>\n",
       "    </tr>\n",
       "    <tr>\n",
       "      <th>2001-04-01</th>\n",
       "      <td>10597.822</td>\n",
       "      <td>63.833333</td>\n",
       "      <td>67.7</td>\n",
       "      <td>7.130000</td>\n",
       "    </tr>\n",
       "    <tr>\n",
       "      <th>2001-07-01</th>\n",
       "      <td>10596.294</td>\n",
       "      <td>63.466667</td>\n",
       "      <td>68.1</td>\n",
       "      <td>6.963846</td>\n",
       "    </tr>\n",
       "    <tr>\n",
       "      <th>2001-10-01</th>\n",
       "      <td>10660.294</td>\n",
       "      <td>63.033333</td>\n",
       "      <td>68.0</td>\n",
       "      <td>6.770769</td>\n",
       "    </tr>\n",
       "  </tbody>\n",
       "</table>\n",
       "</div>"
      ],
      "text/plain": [
       "                  GDP    EMRATIO  RHORUSQ156N  MORTGAGE30US\n",
       "DATE                                                       \n",
       "2000-10-01  10439.025  64.300000         67.5      7.620769\n",
       "2001-01-01  10472.879  64.333333         67.5      7.006923\n",
       "2001-04-01  10597.822  63.833333         67.7      7.130000\n",
       "2001-07-01  10596.294  63.466667         68.1      6.963846\n",
       "2001-10-01  10660.294  63.033333         68.0      6.770769"
      ]
     },
     "execution_count": 6,
     "metadata": {},
     "output_type": "execute_result"
    }
   ],
   "source": [
    "Demand = pd.concat([gdp,emp_ratio,ownership_rate,mortgage_rate], axis=1)\n",
    "Demand.head()"
   ]
  },
  {
   "cell_type": "markdown",
   "id": "australian-neighborhood",
   "metadata": {},
   "source": [
    "### Supply Data"
   ]
  },
  {
   "cell_type": "code",
   "execution_count": 7,
   "id": "urban-fantasy",
   "metadata": {},
   "outputs": [
    {
     "data": {
      "text/html": [
       "<div>\n",
       "<style scoped>\n",
       "    .dataframe tbody tr th:only-of-type {\n",
       "        vertical-align: middle;\n",
       "    }\n",
       "\n",
       "    .dataframe tbody tr th {\n",
       "        vertical-align: top;\n",
       "    }\n",
       "\n",
       "    .dataframe thead th {\n",
       "        text-align: right;\n",
       "    }\n",
       "</style>\n",
       "<table border=\"1\" class=\"dataframe\">\n",
       "  <thead>\n",
       "    <tr style=\"text-align: right;\">\n",
       "      <th></th>\n",
       "      <th>RHVRUSQ156N</th>\n",
       "    </tr>\n",
       "    <tr>\n",
       "      <th>DATE</th>\n",
       "      <th></th>\n",
       "    </tr>\n",
       "  </thead>\n",
       "  <tbody>\n",
       "    <tr>\n",
       "      <th>2000-10-01</th>\n",
       "      <td>1.6</td>\n",
       "    </tr>\n",
       "    <tr>\n",
       "      <th>2001-01-01</th>\n",
       "      <td>1.5</td>\n",
       "    </tr>\n",
       "    <tr>\n",
       "      <th>2001-04-01</th>\n",
       "      <td>1.8</td>\n",
       "    </tr>\n",
       "    <tr>\n",
       "      <th>2001-07-01</th>\n",
       "      <td>1.9</td>\n",
       "    </tr>\n",
       "    <tr>\n",
       "      <th>2001-10-01</th>\n",
       "      <td>1.8</td>\n",
       "    </tr>\n",
       "  </tbody>\n",
       "</table>\n",
       "</div>"
      ],
      "text/plain": [
       "            RHVRUSQ156N\n",
       "DATE                   \n",
       "2000-10-01          1.6\n",
       "2001-01-01          1.5\n",
       "2001-04-01          1.8\n",
       "2001-07-01          1.9\n",
       "2001-10-01          1.8"
      ]
     },
     "execution_count": 7,
     "metadata": {},
     "output_type": "execute_result"
    }
   ],
   "source": [
    "vaccancy_rate = pd.read_csv(r'C:\\Users\\Paritosh\\Desktop\\Home.LLC\\Datasets\\Supply\\Homeowner Vaccancy Rate.csv', index_col='DATE', parse_dates=True)\n",
    "vaccancy_rate.head()"
   ]
  },
  {
   "cell_type": "code",
   "execution_count": 8,
   "id": "cross-thesaurus",
   "metadata": {},
   "outputs": [
    {
     "data": {
      "text/html": [
       "<div>\n",
       "<style scoped>\n",
       "    .dataframe tbody tr th:only-of-type {\n",
       "        vertical-align: middle;\n",
       "    }\n",
       "\n",
       "    .dataframe tbody tr th {\n",
       "        vertical-align: top;\n",
       "    }\n",
       "\n",
       "    .dataframe thead th {\n",
       "        text-align: right;\n",
       "    }\n",
       "</style>\n",
       "<table border=\"1\" class=\"dataframe\">\n",
       "  <thead>\n",
       "    <tr style=\"text-align: right;\">\n",
       "      <th></th>\n",
       "      <th>MSACSR</th>\n",
       "    </tr>\n",
       "    <tr>\n",
       "      <th>DATE</th>\n",
       "      <th></th>\n",
       "    </tr>\n",
       "  </thead>\n",
       "  <tbody>\n",
       "    <tr>\n",
       "      <th>2000-10-01</th>\n",
       "      <td>3.933333</td>\n",
       "    </tr>\n",
       "    <tr>\n",
       "      <th>2001-01-01</th>\n",
       "      <td>3.766667</td>\n",
       "    </tr>\n",
       "    <tr>\n",
       "      <th>2001-04-01</th>\n",
       "      <td>4.033333</td>\n",
       "    </tr>\n",
       "    <tr>\n",
       "      <th>2001-07-01</th>\n",
       "      <td>4.333333</td>\n",
       "    </tr>\n",
       "    <tr>\n",
       "      <th>2001-10-01</th>\n",
       "      <td>4.066667</td>\n",
       "    </tr>\n",
       "  </tbody>\n",
       "</table>\n",
       "</div>"
      ],
      "text/plain": [
       "              MSACSR\n",
       "DATE                \n",
       "2000-10-01  3.933333\n",
       "2001-01-01  3.766667\n",
       "2001-04-01  4.033333\n",
       "2001-07-01  4.333333\n",
       "2001-10-01  4.066667"
      ]
     },
     "execution_count": 8,
     "metadata": {},
     "output_type": "execute_result"
    }
   ],
   "source": [
    "monthly_supply = pd.read_csv(r'C:\\Users\\Paritosh\\Desktop\\Home.LLC\\Datasets\\Supply\\Monthly Supply.csv', index_col='DATE', parse_dates=True)\n",
    "monthly_supply.head()"
   ]
  },
  {
   "cell_type": "code",
   "execution_count": 9,
   "id": "provincial-preference",
   "metadata": {},
   "outputs": [
    {
     "data": {
      "text/html": [
       "<div>\n",
       "<style scoped>\n",
       "    .dataframe tbody tr th:only-of-type {\n",
       "        vertical-align: middle;\n",
       "    }\n",
       "\n",
       "    .dataframe tbody tr th {\n",
       "        vertical-align: top;\n",
       "    }\n",
       "\n",
       "    .dataframe thead th {\n",
       "        text-align: right;\n",
       "    }\n",
       "</style>\n",
       "<table border=\"1\" class=\"dataframe\">\n",
       "  <thead>\n",
       "    <tr style=\"text-align: right;\">\n",
       "      <th></th>\n",
       "      <th>HNFSEPUSSA</th>\n",
       "    </tr>\n",
       "    <tr>\n",
       "      <th>DATE</th>\n",
       "      <th></th>\n",
       "    </tr>\n",
       "  </thead>\n",
       "  <tbody>\n",
       "    <tr>\n",
       "      <th>2000-10-01</th>\n",
       "      <td>301.333333</td>\n",
       "    </tr>\n",
       "    <tr>\n",
       "      <th>2001-01-01</th>\n",
       "      <td>294.666667</td>\n",
       "    </tr>\n",
       "    <tr>\n",
       "      <th>2001-04-01</th>\n",
       "      <td>296.666667</td>\n",
       "    </tr>\n",
       "    <tr>\n",
       "      <th>2001-07-01</th>\n",
       "      <td>307.666667</td>\n",
       "    </tr>\n",
       "    <tr>\n",
       "      <th>2001-10-01</th>\n",
       "      <td>308.000000</td>\n",
       "    </tr>\n",
       "  </tbody>\n",
       "</table>\n",
       "</div>"
      ],
      "text/plain": [
       "            HNFSEPUSSA\n",
       "DATE                  \n",
       "2000-10-01  301.333333\n",
       "2001-01-01  294.666667\n",
       "2001-04-01  296.666667\n",
       "2001-07-01  307.666667\n",
       "2001-10-01  308.000000"
      ]
     },
     "execution_count": 9,
     "metadata": {},
     "output_type": "execute_result"
    }
   ],
   "source": [
    "homes_for_sale = pd.read_csv(r'C:\\Users\\Paritosh\\Desktop\\Home.LLC\\Datasets\\Supply\\New Homes for Sale.csv', index_col='DATE', parse_dates=True)\n",
    "homes_for_sale.head()"
   ]
  },
  {
   "cell_type": "code",
   "execution_count": 10,
   "id": "blank-istanbul",
   "metadata": {},
   "outputs": [
    {
     "data": {
      "text/html": [
       "<div>\n",
       "<style scoped>\n",
       "    .dataframe tbody tr th:only-of-type {\n",
       "        vertical-align: middle;\n",
       "    }\n",
       "\n",
       "    .dataframe tbody tr th {\n",
       "        vertical-align: top;\n",
       "    }\n",
       "\n",
       "    .dataframe thead th {\n",
       "        text-align: right;\n",
       "    }\n",
       "</style>\n",
       "<table border=\"1\" class=\"dataframe\">\n",
       "  <thead>\n",
       "    <tr style=\"text-align: right;\">\n",
       "      <th></th>\n",
       "      <th>HSN1F</th>\n",
       "    </tr>\n",
       "    <tr>\n",
       "      <th>DATE</th>\n",
       "      <th></th>\n",
       "    </tr>\n",
       "  </thead>\n",
       "  <tbody>\n",
       "    <tr>\n",
       "      <th>2000-10-01</th>\n",
       "      <td>932.000000</td>\n",
       "    </tr>\n",
       "    <tr>\n",
       "      <th>2001-01-01</th>\n",
       "      <td>946.000000</td>\n",
       "    </tr>\n",
       "    <tr>\n",
       "      <th>2001-04-01</th>\n",
       "      <td>892.000000</td>\n",
       "    </tr>\n",
       "    <tr>\n",
       "      <th>2001-07-01</th>\n",
       "      <td>866.333333</td>\n",
       "    </tr>\n",
       "    <tr>\n",
       "      <th>2001-10-01</th>\n",
       "      <td>924.666667</td>\n",
       "    </tr>\n",
       "  </tbody>\n",
       "</table>\n",
       "</div>"
      ],
      "text/plain": [
       "                 HSN1F\n",
       "DATE                  \n",
       "2000-10-01  932.000000\n",
       "2001-01-01  946.000000\n",
       "2001-04-01  892.000000\n",
       "2001-07-01  866.333333\n",
       "2001-10-01  924.666667"
      ]
     },
     "execution_count": 10,
     "metadata": {},
     "output_type": "execute_result"
    }
   ],
   "source": [
    "homes_sold = pd.read_csv(r'C:\\Users\\Paritosh\\Desktop\\Home.LLC\\Datasets\\Supply\\New Homes Sold.csv', index_col='DATE', parse_dates=True)\n",
    "homes_sold.head()"
   ]
  },
  {
   "cell_type": "code",
   "execution_count": 11,
   "id": "vertical-punishment",
   "metadata": {},
   "outputs": [
    {
     "data": {
      "text/html": [
       "<div>\n",
       "<style scoped>\n",
       "    .dataframe tbody tr th:only-of-type {\n",
       "        vertical-align: middle;\n",
       "    }\n",
       "\n",
       "    .dataframe tbody tr th {\n",
       "        vertical-align: top;\n",
       "    }\n",
       "\n",
       "    .dataframe thead th {\n",
       "        text-align: right;\n",
       "    }\n",
       "</style>\n",
       "<table border=\"1\" class=\"dataframe\">\n",
       "  <thead>\n",
       "    <tr style=\"text-align: right;\">\n",
       "      <th></th>\n",
       "      <th>RHVRUSQ156N</th>\n",
       "      <th>MSACSR</th>\n",
       "      <th>HNFSEPUSSA</th>\n",
       "      <th>HSN1F</th>\n",
       "    </tr>\n",
       "    <tr>\n",
       "      <th>DATE</th>\n",
       "      <th></th>\n",
       "      <th></th>\n",
       "      <th></th>\n",
       "      <th></th>\n",
       "    </tr>\n",
       "  </thead>\n",
       "  <tbody>\n",
       "    <tr>\n",
       "      <th>2000-10-01</th>\n",
       "      <td>1.6</td>\n",
       "      <td>3.933333</td>\n",
       "      <td>301.333333</td>\n",
       "      <td>932.000000</td>\n",
       "    </tr>\n",
       "    <tr>\n",
       "      <th>2001-01-01</th>\n",
       "      <td>1.5</td>\n",
       "      <td>3.766667</td>\n",
       "      <td>294.666667</td>\n",
       "      <td>946.000000</td>\n",
       "    </tr>\n",
       "    <tr>\n",
       "      <th>2001-04-01</th>\n",
       "      <td>1.8</td>\n",
       "      <td>4.033333</td>\n",
       "      <td>296.666667</td>\n",
       "      <td>892.000000</td>\n",
       "    </tr>\n",
       "    <tr>\n",
       "      <th>2001-07-01</th>\n",
       "      <td>1.9</td>\n",
       "      <td>4.333333</td>\n",
       "      <td>307.666667</td>\n",
       "      <td>866.333333</td>\n",
       "    </tr>\n",
       "    <tr>\n",
       "      <th>2001-10-01</th>\n",
       "      <td>1.8</td>\n",
       "      <td>4.066667</td>\n",
       "      <td>308.000000</td>\n",
       "      <td>924.666667</td>\n",
       "    </tr>\n",
       "  </tbody>\n",
       "</table>\n",
       "</div>"
      ],
      "text/plain": [
       "            RHVRUSQ156N    MSACSR  HNFSEPUSSA       HSN1F\n",
       "DATE                                                     \n",
       "2000-10-01          1.6  3.933333  301.333333  932.000000\n",
       "2001-01-01          1.5  3.766667  294.666667  946.000000\n",
       "2001-04-01          1.8  4.033333  296.666667  892.000000\n",
       "2001-07-01          1.9  4.333333  307.666667  866.333333\n",
       "2001-10-01          1.8  4.066667  308.000000  924.666667"
      ]
     },
     "execution_count": 11,
     "metadata": {},
     "output_type": "execute_result"
    }
   ],
   "source": [
    "Supply = pd.concat([vaccancy_rate,monthly_supply,homes_for_sale,homes_sold], axis=1)\n",
    "Supply.head()"
   ]
  },
  {
   "cell_type": "code",
   "execution_count": 12,
   "id": "lightweight-partner",
   "metadata": {},
   "outputs": [
    {
     "data": {
      "text/html": [
       "<div>\n",
       "<style scoped>\n",
       "    .dataframe tbody tr th:only-of-type {\n",
       "        vertical-align: middle;\n",
       "    }\n",
       "\n",
       "    .dataframe tbody tr th {\n",
       "        vertical-align: top;\n",
       "    }\n",
       "\n",
       "    .dataframe thead th {\n",
       "        text-align: right;\n",
       "    }\n",
       "</style>\n",
       "<table border=\"1\" class=\"dataframe\">\n",
       "  <thead>\n",
       "    <tr style=\"text-align: right;\">\n",
       "      <th></th>\n",
       "      <th>CSUSHPISA</th>\n",
       "    </tr>\n",
       "    <tr>\n",
       "      <th>DATE</th>\n",
       "      <th></th>\n",
       "    </tr>\n",
       "  </thead>\n",
       "  <tbody>\n",
       "    <tr>\n",
       "      <th>2000-10-01</th>\n",
       "      <td>108.272667</td>\n",
       "    </tr>\n",
       "    <tr>\n",
       "      <th>2001-01-01</th>\n",
       "      <td>110.484000</td>\n",
       "    </tr>\n",
       "    <tr>\n",
       "      <th>2001-04-01</th>\n",
       "      <td>112.202333</td>\n",
       "    </tr>\n",
       "    <tr>\n",
       "      <th>2001-07-01</th>\n",
       "      <td>114.156333</td>\n",
       "    </tr>\n",
       "    <tr>\n",
       "      <th>2001-10-01</th>\n",
       "      <td>115.871333</td>\n",
       "    </tr>\n",
       "  </tbody>\n",
       "</table>\n",
       "</div>"
      ],
      "text/plain": [
       "             CSUSHPISA\n",
       "DATE                  \n",
       "2000-10-01  108.272667\n",
       "2001-01-01  110.484000\n",
       "2001-04-01  112.202333\n",
       "2001-07-01  114.156333\n",
       "2001-10-01  115.871333"
      ]
     },
     "execution_count": 12,
     "metadata": {},
     "output_type": "execute_result"
    }
   ],
   "source": [
    "house_price_index = pd.read_csv(r'C:\\Users\\Paritosh\\Desktop\\Home.LLC\\Datasets\\Home Price Index.csv', index_col='DATE', parse_dates=True)\n",
    "house_price_index.head()"
   ]
  },
  {
   "cell_type": "markdown",
   "id": "lightweight-northeast",
   "metadata": {},
   "source": [
    "### Merging Data"
   ]
  },
  {
   "cell_type": "code",
   "execution_count": 13,
   "id": "subject-glance",
   "metadata": {},
   "outputs": [
    {
     "data": {
      "text/html": [
       "<div>\n",
       "<style scoped>\n",
       "    .dataframe tbody tr th:only-of-type {\n",
       "        vertical-align: middle;\n",
       "    }\n",
       "\n",
       "    .dataframe tbody tr th {\n",
       "        vertical-align: top;\n",
       "    }\n",
       "\n",
       "    .dataframe thead th {\n",
       "        text-align: right;\n",
       "    }\n",
       "</style>\n",
       "<table border=\"1\" class=\"dataframe\">\n",
       "  <thead>\n",
       "    <tr style=\"text-align: right;\">\n",
       "      <th></th>\n",
       "      <th>RHVRUSQ156N</th>\n",
       "      <th>MSACSR</th>\n",
       "      <th>HNFSEPUSSA</th>\n",
       "      <th>HSN1F</th>\n",
       "      <th>GDP</th>\n",
       "      <th>EMRATIO</th>\n",
       "      <th>RHORUSQ156N</th>\n",
       "      <th>MORTGAGE30US</th>\n",
       "      <th>CSUSHPISA</th>\n",
       "    </tr>\n",
       "    <tr>\n",
       "      <th>DATE</th>\n",
       "      <th></th>\n",
       "      <th></th>\n",
       "      <th></th>\n",
       "      <th></th>\n",
       "      <th></th>\n",
       "      <th></th>\n",
       "      <th></th>\n",
       "      <th></th>\n",
       "      <th></th>\n",
       "    </tr>\n",
       "  </thead>\n",
       "  <tbody>\n",
       "    <tr>\n",
       "      <th>2000-10-01</th>\n",
       "      <td>1.6</td>\n",
       "      <td>3.933333</td>\n",
       "      <td>301.333333</td>\n",
       "      <td>932.000000</td>\n",
       "      <td>10439.025</td>\n",
       "      <td>64.300000</td>\n",
       "      <td>67.5</td>\n",
       "      <td>7.620769</td>\n",
       "      <td>108.272667</td>\n",
       "    </tr>\n",
       "    <tr>\n",
       "      <th>2001-01-01</th>\n",
       "      <td>1.5</td>\n",
       "      <td>3.766667</td>\n",
       "      <td>294.666667</td>\n",
       "      <td>946.000000</td>\n",
       "      <td>10472.879</td>\n",
       "      <td>64.333333</td>\n",
       "      <td>67.5</td>\n",
       "      <td>7.006923</td>\n",
       "      <td>110.484000</td>\n",
       "    </tr>\n",
       "    <tr>\n",
       "      <th>2001-04-01</th>\n",
       "      <td>1.8</td>\n",
       "      <td>4.033333</td>\n",
       "      <td>296.666667</td>\n",
       "      <td>892.000000</td>\n",
       "      <td>10597.822</td>\n",
       "      <td>63.833333</td>\n",
       "      <td>67.7</td>\n",
       "      <td>7.130000</td>\n",
       "      <td>112.202333</td>\n",
       "    </tr>\n",
       "    <tr>\n",
       "      <th>2001-07-01</th>\n",
       "      <td>1.9</td>\n",
       "      <td>4.333333</td>\n",
       "      <td>307.666667</td>\n",
       "      <td>866.333333</td>\n",
       "      <td>10596.294</td>\n",
       "      <td>63.466667</td>\n",
       "      <td>68.1</td>\n",
       "      <td>6.963846</td>\n",
       "      <td>114.156333</td>\n",
       "    </tr>\n",
       "    <tr>\n",
       "      <th>2001-10-01</th>\n",
       "      <td>1.8</td>\n",
       "      <td>4.066667</td>\n",
       "      <td>308.000000</td>\n",
       "      <td>924.666667</td>\n",
       "      <td>10660.294</td>\n",
       "      <td>63.033333</td>\n",
       "      <td>68.0</td>\n",
       "      <td>6.770769</td>\n",
       "      <td>115.871333</td>\n",
       "    </tr>\n",
       "  </tbody>\n",
       "</table>\n",
       "</div>"
      ],
      "text/plain": [
       "            RHVRUSQ156N    MSACSR  HNFSEPUSSA       HSN1F        GDP  \\\n",
       "DATE                                                                   \n",
       "2000-10-01          1.6  3.933333  301.333333  932.000000  10439.025   \n",
       "2001-01-01          1.5  3.766667  294.666667  946.000000  10472.879   \n",
       "2001-04-01          1.8  4.033333  296.666667  892.000000  10597.822   \n",
       "2001-07-01          1.9  4.333333  307.666667  866.333333  10596.294   \n",
       "2001-10-01          1.8  4.066667  308.000000  924.666667  10660.294   \n",
       "\n",
       "              EMRATIO  RHORUSQ156N  MORTGAGE30US   CSUSHPISA  \n",
       "DATE                                                          \n",
       "2000-10-01  64.300000         67.5      7.620769  108.272667  \n",
       "2001-01-01  64.333333         67.5      7.006923  110.484000  \n",
       "2001-04-01  63.833333         67.7      7.130000  112.202333  \n",
       "2001-07-01  63.466667         68.1      6.963846  114.156333  \n",
       "2001-10-01  63.033333         68.0      6.770769  115.871333  "
      ]
     },
     "execution_count": 13,
     "metadata": {},
     "output_type": "execute_result"
    }
   ],
   "source": [
    "Data = pd.concat([Supply,Demand,house_price_index], axis=1)\n",
    "Data.head()"
   ]
  },
  {
   "cell_type": "code",
   "execution_count": 14,
   "id": "british-alert",
   "metadata": {},
   "outputs": [
    {
     "name": "stdout",
     "output_type": "stream",
     "text": [
      "<class 'pandas.core.frame.DataFrame'>\n",
      "DatetimeIndex: 81 entries, 2000-10-01 to 2020-10-01\n",
      "Data columns (total 9 columns):\n",
      " #   Column        Non-Null Count  Dtype  \n",
      "---  ------        --------------  -----  \n",
      " 0   RHVRUSQ156N   81 non-null     float64\n",
      " 1   MSACSR        81 non-null     float64\n",
      " 2   HNFSEPUSSA    81 non-null     float64\n",
      " 3   HSN1F         81 non-null     float64\n",
      " 4   GDP           81 non-null     float64\n",
      " 5   EMRATIO       81 non-null     float64\n",
      " 6   RHORUSQ156N   81 non-null     float64\n",
      " 7   MORTGAGE30US  81 non-null     float64\n",
      " 8   CSUSHPISA     81 non-null     float64\n",
      "dtypes: float64(9)\n",
      "memory usage: 6.3 KB\n"
     ]
    }
   ],
   "source": [
    "Data.info()"
   ]
  },
  {
   "cell_type": "markdown",
   "id": "vocational-swimming",
   "metadata": {},
   "source": [
    "#### Renaming columns"
   ]
  },
  {
   "cell_type": "code",
   "execution_count": 15,
   "id": "center-little",
   "metadata": {},
   "outputs": [],
   "source": [
    "mapper = {'RHORUSQ156N':'Ownership Rate (%)','MSACSR':'Monthly Supply','HSN1F':'New One Family Homes Sold (Thousands)','HNFSEPUSSA':'New Homes for Sale (Thousands)','GDP':'GDP (Billions of Dollars)','EMRATIO':'Employment (%)','MORTGAGE30US':'Mortgage Rate (%)','CSUSHPISA':'House Price Index','RHVRUSQ156N':'Vaccancy Rate(%)'}\n",
    "Data.rename(columns=mapper, inplace=True)"
   ]
  },
  {
   "cell_type": "code",
   "execution_count": 16,
   "id": "mobile-aquarium",
   "metadata": {},
   "outputs": [
    {
     "data": {
      "text/html": [
       "<div>\n",
       "<style scoped>\n",
       "    .dataframe tbody tr th:only-of-type {\n",
       "        vertical-align: middle;\n",
       "    }\n",
       "\n",
       "    .dataframe tbody tr th {\n",
       "        vertical-align: top;\n",
       "    }\n",
       "\n",
       "    .dataframe thead th {\n",
       "        text-align: right;\n",
       "    }\n",
       "</style>\n",
       "<table border=\"1\" class=\"dataframe\">\n",
       "  <thead>\n",
       "    <tr style=\"text-align: right;\">\n",
       "      <th></th>\n",
       "      <th>Vaccancy Rate(%)</th>\n",
       "      <th>Monthly Supply</th>\n",
       "      <th>New Homes for Sale (Thousands)</th>\n",
       "      <th>New One Family Homes Sold (Thousands)</th>\n",
       "      <th>GDP (Billions of Dollars)</th>\n",
       "      <th>Employment (%)</th>\n",
       "      <th>Ownership Rate (%)</th>\n",
       "      <th>Mortgage Rate (%)</th>\n",
       "      <th>House Price Index</th>\n",
       "    </tr>\n",
       "    <tr>\n",
       "      <th>DATE</th>\n",
       "      <th></th>\n",
       "      <th></th>\n",
       "      <th></th>\n",
       "      <th></th>\n",
       "      <th></th>\n",
       "      <th></th>\n",
       "      <th></th>\n",
       "      <th></th>\n",
       "      <th></th>\n",
       "    </tr>\n",
       "  </thead>\n",
       "  <tbody>\n",
       "    <tr>\n",
       "      <th>2000-10-01</th>\n",
       "      <td>1.6</td>\n",
       "      <td>3.933333</td>\n",
       "      <td>301.333333</td>\n",
       "      <td>932.000000</td>\n",
       "      <td>10439.025</td>\n",
       "      <td>64.300000</td>\n",
       "      <td>67.5</td>\n",
       "      <td>7.620769</td>\n",
       "      <td>108.272667</td>\n",
       "    </tr>\n",
       "    <tr>\n",
       "      <th>2001-01-01</th>\n",
       "      <td>1.5</td>\n",
       "      <td>3.766667</td>\n",
       "      <td>294.666667</td>\n",
       "      <td>946.000000</td>\n",
       "      <td>10472.879</td>\n",
       "      <td>64.333333</td>\n",
       "      <td>67.5</td>\n",
       "      <td>7.006923</td>\n",
       "      <td>110.484000</td>\n",
       "    </tr>\n",
       "    <tr>\n",
       "      <th>2001-04-01</th>\n",
       "      <td>1.8</td>\n",
       "      <td>4.033333</td>\n",
       "      <td>296.666667</td>\n",
       "      <td>892.000000</td>\n",
       "      <td>10597.822</td>\n",
       "      <td>63.833333</td>\n",
       "      <td>67.7</td>\n",
       "      <td>7.130000</td>\n",
       "      <td>112.202333</td>\n",
       "    </tr>\n",
       "    <tr>\n",
       "      <th>2001-07-01</th>\n",
       "      <td>1.9</td>\n",
       "      <td>4.333333</td>\n",
       "      <td>307.666667</td>\n",
       "      <td>866.333333</td>\n",
       "      <td>10596.294</td>\n",
       "      <td>63.466667</td>\n",
       "      <td>68.1</td>\n",
       "      <td>6.963846</td>\n",
       "      <td>114.156333</td>\n",
       "    </tr>\n",
       "    <tr>\n",
       "      <th>2001-10-01</th>\n",
       "      <td>1.8</td>\n",
       "      <td>4.066667</td>\n",
       "      <td>308.000000</td>\n",
       "      <td>924.666667</td>\n",
       "      <td>10660.294</td>\n",
       "      <td>63.033333</td>\n",
       "      <td>68.0</td>\n",
       "      <td>6.770769</td>\n",
       "      <td>115.871333</td>\n",
       "    </tr>\n",
       "  </tbody>\n",
       "</table>\n",
       "</div>"
      ],
      "text/plain": [
       "            Vaccancy Rate(%)  Monthly Supply  New Homes for Sale (Thousands)  \\\n",
       "DATE                                                                           \n",
       "2000-10-01               1.6        3.933333                      301.333333   \n",
       "2001-01-01               1.5        3.766667                      294.666667   \n",
       "2001-04-01               1.8        4.033333                      296.666667   \n",
       "2001-07-01               1.9        4.333333                      307.666667   \n",
       "2001-10-01               1.8        4.066667                      308.000000   \n",
       "\n",
       "            New One Family Homes Sold (Thousands)  GDP (Billions of Dollars)  \\\n",
       "DATE                                                                           \n",
       "2000-10-01                             932.000000                  10439.025   \n",
       "2001-01-01                             946.000000                  10472.879   \n",
       "2001-04-01                             892.000000                  10597.822   \n",
       "2001-07-01                             866.333333                  10596.294   \n",
       "2001-10-01                             924.666667                  10660.294   \n",
       "\n",
       "            Employment (%)  Ownership Rate (%)  Mortgage Rate (%)  \\\n",
       "DATE                                                                \n",
       "2000-10-01       64.300000                67.5           7.620769   \n",
       "2001-01-01       64.333333                67.5           7.006923   \n",
       "2001-04-01       63.833333                67.7           7.130000   \n",
       "2001-07-01       63.466667                68.1           6.963846   \n",
       "2001-10-01       63.033333                68.0           6.770769   \n",
       "\n",
       "            House Price Index  \n",
       "DATE                           \n",
       "2000-10-01         108.272667  \n",
       "2001-01-01         110.484000  \n",
       "2001-04-01         112.202333  \n",
       "2001-07-01         114.156333  \n",
       "2001-10-01         115.871333  "
      ]
     },
     "execution_count": 16,
     "metadata": {},
     "output_type": "execute_result"
    }
   ],
   "source": [
    "Data.head()"
   ]
  },
  {
   "cell_type": "code",
   "execution_count": 17,
   "id": "indian-scholar",
   "metadata": {},
   "outputs": [
    {
     "data": {
      "text/html": [
       "<div>\n",
       "<style scoped>\n",
       "    .dataframe tbody tr th:only-of-type {\n",
       "        vertical-align: middle;\n",
       "    }\n",
       "\n",
       "    .dataframe tbody tr th {\n",
       "        vertical-align: top;\n",
       "    }\n",
       "\n",
       "    .dataframe thead th {\n",
       "        text-align: right;\n",
       "    }\n",
       "</style>\n",
       "<table border=\"1\" class=\"dataframe\">\n",
       "  <thead>\n",
       "    <tr style=\"text-align: right;\">\n",
       "      <th></th>\n",
       "      <th>Vaccancy Rate(%)</th>\n",
       "      <th>Monthly Supply</th>\n",
       "      <th>New Homes for Sale (Thousands)</th>\n",
       "      <th>New One Family Homes Sold (Thousands)</th>\n",
       "      <th>GDP (Billions of Dollars)</th>\n",
       "      <th>Employment (%)</th>\n",
       "      <th>Ownership Rate (%)</th>\n",
       "      <th>Mortgage Rate (%)</th>\n",
       "      <th>House Price Index</th>\n",
       "    </tr>\n",
       "    <tr>\n",
       "      <th>DATE</th>\n",
       "      <th></th>\n",
       "      <th></th>\n",
       "      <th></th>\n",
       "      <th></th>\n",
       "      <th></th>\n",
       "      <th></th>\n",
       "      <th></th>\n",
       "      <th></th>\n",
       "      <th></th>\n",
       "    </tr>\n",
       "  </thead>\n",
       "  <tbody>\n",
       "    <tr>\n",
       "      <th>2000-10-01</th>\n",
       "      <td>1.6</td>\n",
       "      <td>3.933</td>\n",
       "      <td>301.333</td>\n",
       "      <td>932.000</td>\n",
       "      <td>10439.025</td>\n",
       "      <td>64.300</td>\n",
       "      <td>67.5</td>\n",
       "      <td>7.621</td>\n",
       "      <td>108.273</td>\n",
       "    </tr>\n",
       "    <tr>\n",
       "      <th>2001-01-01</th>\n",
       "      <td>1.5</td>\n",
       "      <td>3.767</td>\n",
       "      <td>294.667</td>\n",
       "      <td>946.000</td>\n",
       "      <td>10472.879</td>\n",
       "      <td>64.333</td>\n",
       "      <td>67.5</td>\n",
       "      <td>7.007</td>\n",
       "      <td>110.484</td>\n",
       "    </tr>\n",
       "    <tr>\n",
       "      <th>2001-04-01</th>\n",
       "      <td>1.8</td>\n",
       "      <td>4.033</td>\n",
       "      <td>296.667</td>\n",
       "      <td>892.000</td>\n",
       "      <td>10597.822</td>\n",
       "      <td>63.833</td>\n",
       "      <td>67.7</td>\n",
       "      <td>7.130</td>\n",
       "      <td>112.202</td>\n",
       "    </tr>\n",
       "    <tr>\n",
       "      <th>2001-07-01</th>\n",
       "      <td>1.9</td>\n",
       "      <td>4.333</td>\n",
       "      <td>307.667</td>\n",
       "      <td>866.333</td>\n",
       "      <td>10596.294</td>\n",
       "      <td>63.467</td>\n",
       "      <td>68.1</td>\n",
       "      <td>6.964</td>\n",
       "      <td>114.156</td>\n",
       "    </tr>\n",
       "    <tr>\n",
       "      <th>2001-10-01</th>\n",
       "      <td>1.8</td>\n",
       "      <td>4.067</td>\n",
       "      <td>308.000</td>\n",
       "      <td>924.667</td>\n",
       "      <td>10660.294</td>\n",
       "      <td>63.033</td>\n",
       "      <td>68.0</td>\n",
       "      <td>6.771</td>\n",
       "      <td>115.871</td>\n",
       "    </tr>\n",
       "    <tr>\n",
       "      <th>...</th>\n",
       "      <td>...</td>\n",
       "      <td>...</td>\n",
       "      <td>...</td>\n",
       "      <td>...</td>\n",
       "      <td>...</td>\n",
       "      <td>...</td>\n",
       "      <td>...</td>\n",
       "      <td>...</td>\n",
       "      <td>...</td>\n",
       "    </tr>\n",
       "    <tr>\n",
       "      <th>2019-10-01</th>\n",
       "      <td>1.4</td>\n",
       "      <td>5.467</td>\n",
       "      <td>321.667</td>\n",
       "      <td>711.000</td>\n",
       "      <td>21747.394</td>\n",
       "      <td>60.967</td>\n",
       "      <td>65.1</td>\n",
       "      <td>3.700</td>\n",
       "      <td>212.534</td>\n",
       "    </tr>\n",
       "    <tr>\n",
       "      <th>2020-01-01</th>\n",
       "      <td>1.1</td>\n",
       "      <td>5.667</td>\n",
       "      <td>327.333</td>\n",
       "      <td>700.667</td>\n",
       "      <td>21561.139</td>\n",
       "      <td>60.700</td>\n",
       "      <td>65.3</td>\n",
       "      <td>3.522</td>\n",
       "      <td>215.629</td>\n",
       "    </tr>\n",
       "    <tr>\n",
       "      <th>2020-04-01</th>\n",
       "      <td>0.9</td>\n",
       "      <td>5.467</td>\n",
       "      <td>311.333</td>\n",
       "      <td>702.667</td>\n",
       "      <td>19520.114</td>\n",
       "      <td>52.900</td>\n",
       "      <td>67.9</td>\n",
       "      <td>3.239</td>\n",
       "      <td>217.939</td>\n",
       "    </tr>\n",
       "    <tr>\n",
       "      <th>2020-07-01</th>\n",
       "      <td>0.9</td>\n",
       "      <td>3.567</td>\n",
       "      <td>287.667</td>\n",
       "      <td>973.667</td>\n",
       "      <td>21170.252</td>\n",
       "      <td>56.100</td>\n",
       "      <td>67.4</td>\n",
       "      <td>2.952</td>\n",
       "      <td>222.563</td>\n",
       "    </tr>\n",
       "    <tr>\n",
       "      <th>2020-10-01</th>\n",
       "      <td>1.0</td>\n",
       "      <td>3.833</td>\n",
       "      <td>291.667</td>\n",
       "      <td>913.667</td>\n",
       "      <td>21494.731</td>\n",
       "      <td>57.400</td>\n",
       "      <td>65.8</td>\n",
       "      <td>2.761</td>\n",
       "      <td>232.546</td>\n",
       "    </tr>\n",
       "  </tbody>\n",
       "</table>\n",
       "<p>81 rows × 9 columns</p>\n",
       "</div>"
      ],
      "text/plain": [
       "            Vaccancy Rate(%)  Monthly Supply  New Homes for Sale (Thousands)  \\\n",
       "DATE                                                                           \n",
       "2000-10-01               1.6           3.933                         301.333   \n",
       "2001-01-01               1.5           3.767                         294.667   \n",
       "2001-04-01               1.8           4.033                         296.667   \n",
       "2001-07-01               1.9           4.333                         307.667   \n",
       "2001-10-01               1.8           4.067                         308.000   \n",
       "...                      ...             ...                             ...   \n",
       "2019-10-01               1.4           5.467                         321.667   \n",
       "2020-01-01               1.1           5.667                         327.333   \n",
       "2020-04-01               0.9           5.467                         311.333   \n",
       "2020-07-01               0.9           3.567                         287.667   \n",
       "2020-10-01               1.0           3.833                         291.667   \n",
       "\n",
       "            New One Family Homes Sold (Thousands)  GDP (Billions of Dollars)  \\\n",
       "DATE                                                                           \n",
       "2000-10-01                                932.000                  10439.025   \n",
       "2001-01-01                                946.000                  10472.879   \n",
       "2001-04-01                                892.000                  10597.822   \n",
       "2001-07-01                                866.333                  10596.294   \n",
       "2001-10-01                                924.667                  10660.294   \n",
       "...                                           ...                        ...   \n",
       "2019-10-01                                711.000                  21747.394   \n",
       "2020-01-01                                700.667                  21561.139   \n",
       "2020-04-01                                702.667                  19520.114   \n",
       "2020-07-01                                973.667                  21170.252   \n",
       "2020-10-01                                913.667                  21494.731   \n",
       "\n",
       "            Employment (%)  Ownership Rate (%)  Mortgage Rate (%)  \\\n",
       "DATE                                                                \n",
       "2000-10-01          64.300                67.5              7.621   \n",
       "2001-01-01          64.333                67.5              7.007   \n",
       "2001-04-01          63.833                67.7              7.130   \n",
       "2001-07-01          63.467                68.1              6.964   \n",
       "2001-10-01          63.033                68.0              6.771   \n",
       "...                    ...                 ...                ...   \n",
       "2019-10-01          60.967                65.1              3.700   \n",
       "2020-01-01          60.700                65.3              3.522   \n",
       "2020-04-01          52.900                67.9              3.239   \n",
       "2020-07-01          56.100                67.4              2.952   \n",
       "2020-10-01          57.400                65.8              2.761   \n",
       "\n",
       "            House Price Index  \n",
       "DATE                           \n",
       "2000-10-01            108.273  \n",
       "2001-01-01            110.484  \n",
       "2001-04-01            112.202  \n",
       "2001-07-01            114.156  \n",
       "2001-10-01            115.871  \n",
       "...                       ...  \n",
       "2019-10-01            212.534  \n",
       "2020-01-01            215.629  \n",
       "2020-04-01            217.939  \n",
       "2020-07-01            222.563  \n",
       "2020-10-01            232.546  \n",
       "\n",
       "[81 rows x 9 columns]"
      ]
     },
     "execution_count": 17,
     "metadata": {},
     "output_type": "execute_result"
    }
   ],
   "source": [
    "Data.round(3)"
   ]
  },
  {
   "cell_type": "code",
   "execution_count": 18,
   "id": "agreed-material",
   "metadata": {},
   "outputs": [],
   "source": [
    "Dataframe = Data.round(3)"
   ]
  },
  {
   "cell_type": "code",
   "execution_count": 19,
   "id": "particular-provision",
   "metadata": {},
   "outputs": [
    {
     "data": {
      "text/html": [
       "<div>\n",
       "<style scoped>\n",
       "    .dataframe tbody tr th:only-of-type {\n",
       "        vertical-align: middle;\n",
       "    }\n",
       "\n",
       "    .dataframe tbody tr th {\n",
       "        vertical-align: top;\n",
       "    }\n",
       "\n",
       "    .dataframe thead th {\n",
       "        text-align: right;\n",
       "    }\n",
       "</style>\n",
       "<table border=\"1\" class=\"dataframe\">\n",
       "  <thead>\n",
       "    <tr style=\"text-align: right;\">\n",
       "      <th></th>\n",
       "      <th>Vaccancy Rate(%)</th>\n",
       "      <th>Monthly Supply</th>\n",
       "      <th>New Homes for Sale (Thousands)</th>\n",
       "      <th>New One Family Homes Sold (Thousands)</th>\n",
       "      <th>GDP (Billions of Dollars)</th>\n",
       "      <th>Employment (%)</th>\n",
       "      <th>Ownership Rate (%)</th>\n",
       "      <th>Mortgage Rate (%)</th>\n",
       "      <th>House Price Index</th>\n",
       "    </tr>\n",
       "    <tr>\n",
       "      <th>DATE</th>\n",
       "      <th></th>\n",
       "      <th></th>\n",
       "      <th></th>\n",
       "      <th></th>\n",
       "      <th></th>\n",
       "      <th></th>\n",
       "      <th></th>\n",
       "      <th></th>\n",
       "      <th></th>\n",
       "    </tr>\n",
       "  </thead>\n",
       "  <tbody>\n",
       "    <tr>\n",
       "      <th>2000-10-01</th>\n",
       "      <td>1.6</td>\n",
       "      <td>3.933</td>\n",
       "      <td>301.333</td>\n",
       "      <td>932.000</td>\n",
       "      <td>10439.025</td>\n",
       "      <td>64.300</td>\n",
       "      <td>67.5</td>\n",
       "      <td>7.621</td>\n",
       "      <td>108.273</td>\n",
       "    </tr>\n",
       "    <tr>\n",
       "      <th>2001-01-01</th>\n",
       "      <td>1.5</td>\n",
       "      <td>3.767</td>\n",
       "      <td>294.667</td>\n",
       "      <td>946.000</td>\n",
       "      <td>10472.879</td>\n",
       "      <td>64.333</td>\n",
       "      <td>67.5</td>\n",
       "      <td>7.007</td>\n",
       "      <td>110.484</td>\n",
       "    </tr>\n",
       "    <tr>\n",
       "      <th>2001-04-01</th>\n",
       "      <td>1.8</td>\n",
       "      <td>4.033</td>\n",
       "      <td>296.667</td>\n",
       "      <td>892.000</td>\n",
       "      <td>10597.822</td>\n",
       "      <td>63.833</td>\n",
       "      <td>67.7</td>\n",
       "      <td>7.130</td>\n",
       "      <td>112.202</td>\n",
       "    </tr>\n",
       "    <tr>\n",
       "      <th>2001-07-01</th>\n",
       "      <td>1.9</td>\n",
       "      <td>4.333</td>\n",
       "      <td>307.667</td>\n",
       "      <td>866.333</td>\n",
       "      <td>10596.294</td>\n",
       "      <td>63.467</td>\n",
       "      <td>68.1</td>\n",
       "      <td>6.964</td>\n",
       "      <td>114.156</td>\n",
       "    </tr>\n",
       "    <tr>\n",
       "      <th>2001-10-01</th>\n",
       "      <td>1.8</td>\n",
       "      <td>4.067</td>\n",
       "      <td>308.000</td>\n",
       "      <td>924.667</td>\n",
       "      <td>10660.294</td>\n",
       "      <td>63.033</td>\n",
       "      <td>68.0</td>\n",
       "      <td>6.771</td>\n",
       "      <td>115.871</td>\n",
       "    </tr>\n",
       "  </tbody>\n",
       "</table>\n",
       "</div>"
      ],
      "text/plain": [
       "            Vaccancy Rate(%)  Monthly Supply  New Homes for Sale (Thousands)  \\\n",
       "DATE                                                                           \n",
       "2000-10-01               1.6           3.933                         301.333   \n",
       "2001-01-01               1.5           3.767                         294.667   \n",
       "2001-04-01               1.8           4.033                         296.667   \n",
       "2001-07-01               1.9           4.333                         307.667   \n",
       "2001-10-01               1.8           4.067                         308.000   \n",
       "\n",
       "            New One Family Homes Sold (Thousands)  GDP (Billions of Dollars)  \\\n",
       "DATE                                                                           \n",
       "2000-10-01                                932.000                  10439.025   \n",
       "2001-01-01                                946.000                  10472.879   \n",
       "2001-04-01                                892.000                  10597.822   \n",
       "2001-07-01                                866.333                  10596.294   \n",
       "2001-10-01                                924.667                  10660.294   \n",
       "\n",
       "            Employment (%)  Ownership Rate (%)  Mortgage Rate (%)  \\\n",
       "DATE                                                                \n",
       "2000-10-01          64.300                67.5              7.621   \n",
       "2001-01-01          64.333                67.5              7.007   \n",
       "2001-04-01          63.833                67.7              7.130   \n",
       "2001-07-01          63.467                68.1              6.964   \n",
       "2001-10-01          63.033                68.0              6.771   \n",
       "\n",
       "            House Price Index  \n",
       "DATE                           \n",
       "2000-10-01            108.273  \n",
       "2001-01-01            110.484  \n",
       "2001-04-01            112.202  \n",
       "2001-07-01            114.156  \n",
       "2001-10-01            115.871  "
      ]
     },
     "execution_count": 19,
     "metadata": {},
     "output_type": "execute_result"
    }
   ],
   "source": [
    "Dataframe.head()"
   ]
  },
  {
   "cell_type": "code",
   "execution_count": 20,
   "id": "literary-lunch",
   "metadata": {},
   "outputs": [
    {
     "name": "stdout",
     "output_type": "stream",
     "text": [
      "<class 'pandas.core.frame.DataFrame'>\n",
      "DatetimeIndex: 81 entries, 2000-10-01 to 2020-10-01\n",
      "Data columns (total 9 columns):\n",
      " #   Column                                 Non-Null Count  Dtype  \n",
      "---  ------                                 --------------  -----  \n",
      " 0   Vaccancy Rate(%)                       81 non-null     float64\n",
      " 1   Monthly Supply                         81 non-null     float64\n",
      " 2   New Homes for Sale (Thousands)         81 non-null     float64\n",
      " 3   New One Family Homes Sold (Thousands)  81 non-null     float64\n",
      " 4   GDP (Billions of Dollars)              81 non-null     float64\n",
      " 5   Employment (%)                         81 non-null     float64\n",
      " 6   Ownership Rate (%)                     81 non-null     float64\n",
      " 7   Mortgage Rate (%)                      81 non-null     float64\n",
      " 8   House Price Index                      81 non-null     float64\n",
      "dtypes: float64(9)\n",
      "memory usage: 6.3 KB\n"
     ]
    }
   ],
   "source": [
    "Dataframe.info()"
   ]
  },
  {
   "cell_type": "code",
   "execution_count": 21,
   "id": "sonic-album",
   "metadata": {},
   "outputs": [
    {
     "name": "stdout",
     "output_type": "stream",
     "text": [
      "Requirement already satisfied: seaborn in c:\\users\\paritosh\\appdata\\local\\programs\\python\\python37\\lib\\site-packages (0.11.1)\n",
      "Requirement already satisfied: pandas>=0.23 in c:\\users\\paritosh\\appdata\\local\\programs\\python\\python37\\lib\\site-packages (from seaborn) (1.2.2)\n",
      "Requirement already satisfied: scipy>=1.0 in c:\\users\\paritosh\\appdata\\local\\programs\\python\\python37\\lib\\site-packages (from seaborn) (1.6.1)\n",
      "Requirement already satisfied: matplotlib>=2.2 in c:\\users\\paritosh\\appdata\\local\\programs\\python\\python37\\lib\\site-packages (from seaborn) (3.3.4)\n",
      "Requirement already satisfied: numpy>=1.15 in c:\\users\\paritosh\\appdata\\local\\programs\\python\\python37\\lib\\site-packages (from seaborn) (1.20.1)\n",
      "Requirement already satisfied: python-dateutil>=2.7.3 in c:\\users\\paritosh\\appdata\\local\\programs\\python\\python37\\lib\\site-packages (from pandas>=0.23->seaborn) (2.8.1)\n",
      "Requirement already satisfied: pytz>=2017.3 in c:\\users\\paritosh\\appdata\\local\\programs\\python\\python37\\lib\\site-packages (from pandas>=0.23->seaborn) (2021.1)\n",
      "Requirement already satisfied: cycler>=0.10 in c:\\users\\paritosh\\appdata\\local\\programs\\python\\python37\\lib\\site-packages (from matplotlib>=2.2->seaborn) (0.10.0)\n",
      "Requirement already satisfied: kiwisolver>=1.0.1 in c:\\users\\paritosh\\appdata\\local\\programs\\python\\python37\\lib\\site-packages (from matplotlib>=2.2->seaborn) (1.3.1)\n",
      "Requirement already satisfied: pyparsing!=2.0.4,!=2.1.2,!=2.1.6,>=2.0.3 in c:\\users\\paritosh\\appdata\\local\\programs\\python\\python37\\lib\\site-packages (from matplotlib>=2.2->seaborn) (2.4.7)\n",
      "Requirement already satisfied: pillow>=6.2.0 in c:\\users\\paritosh\\appdata\\local\\programs\\python\\python37\\lib\\site-packages (from matplotlib>=2.2->seaborn) (8.1.0)\n",
      "Requirement already satisfied: six>=1.5 in c:\\users\\paritosh\\appdata\\local\\programs\\python\\python37\\lib\\site-packages (from python-dateutil>=2.7.3->pandas>=0.23->seaborn) (1.15.0)\n",
      "Note: you may need to restart the kernel to use updated packages.\n"
     ]
    },
    {
     "name": "stderr",
     "output_type": "stream",
     "text": [
      "You are using pip version 18.1, however version 21.0.1 is available.\n",
      "You should consider upgrading via the 'python -m pip install --upgrade pip' command.\n"
     ]
    }
   ],
   "source": [
    "pip install seaborn"
   ]
  },
  {
   "cell_type": "code",
   "execution_count": 22,
   "id": "front-mumbai",
   "metadata": {},
   "outputs": [],
   "source": [
    "import matplotlib.pyplot as plt\n",
    "import seaborn as sns"
   ]
  },
  {
   "cell_type": "markdown",
   "id": "dried-disorder",
   "metadata": {},
   "source": [
    "### Relation between different features at a glance"
   ]
  },
  {
   "cell_type": "code",
   "execution_count": 23,
   "id": "fatal-orlando",
   "metadata": {},
   "outputs": [
    {
     "data": {
      "text/html": [
       "<div>\n",
       "<style scoped>\n",
       "    .dataframe tbody tr th:only-of-type {\n",
       "        vertical-align: middle;\n",
       "    }\n",
       "\n",
       "    .dataframe tbody tr th {\n",
       "        vertical-align: top;\n",
       "    }\n",
       "\n",
       "    .dataframe thead th {\n",
       "        text-align: right;\n",
       "    }\n",
       "</style>\n",
       "<table border=\"1\" class=\"dataframe\">\n",
       "  <thead>\n",
       "    <tr style=\"text-align: right;\">\n",
       "      <th></th>\n",
       "      <th>Vaccancy Rate(%)</th>\n",
       "      <th>Monthly Supply</th>\n",
       "      <th>New Homes for Sale (Thousands)</th>\n",
       "      <th>New One Family Homes Sold (Thousands)</th>\n",
       "      <th>GDP (Billions of Dollars)</th>\n",
       "      <th>Employment (%)</th>\n",
       "      <th>Ownership Rate (%)</th>\n",
       "      <th>Mortgage Rate (%)</th>\n",
       "      <th>House Price Index</th>\n",
       "    </tr>\n",
       "  </thead>\n",
       "  <tbody>\n",
       "    <tr>\n",
       "      <th>Vaccancy Rate(%)</th>\n",
       "      <td>1.000000</td>\n",
       "      <td>0.743442</td>\n",
       "      <td>0.177757</td>\n",
       "      <td>-0.356210</td>\n",
       "      <td>-0.375599</td>\n",
       "      <td>0.136705</td>\n",
       "      <td>0.324850</td>\n",
       "      <td>0.345766</td>\n",
       "      <td>-0.336154</td>\n",
       "    </tr>\n",
       "    <tr>\n",
       "      <th>Monthly Supply</th>\n",
       "      <td>0.743442</td>\n",
       "      <td>1.000000</td>\n",
       "      <td>0.216910</td>\n",
       "      <td>-0.501126</td>\n",
       "      <td>0.086557</td>\n",
       "      <td>-0.042427</td>\n",
       "      <td>0.086958</td>\n",
       "      <td>0.099563</td>\n",
       "      <td>0.135679</td>\n",
       "    </tr>\n",
       "    <tr>\n",
       "      <th>New Homes for Sale (Thousands)</th>\n",
       "      <td>0.177757</td>\n",
       "      <td>0.216910</td>\n",
       "      <td>1.000000</td>\n",
       "      <td>0.692430</td>\n",
       "      <td>-0.327378</td>\n",
       "      <td>0.716681</td>\n",
       "      <td>0.653145</td>\n",
       "      <td>0.652714</td>\n",
       "      <td>0.245725</td>\n",
       "    </tr>\n",
       "    <tr>\n",
       "      <th>New One Family Homes Sold (Thousands)</th>\n",
       "      <td>-0.356210</td>\n",
       "      <td>-0.501126</td>\n",
       "      <td>0.692430</td>\n",
       "      <td>1.000000</td>\n",
       "      <td>-0.466078</td>\n",
       "      <td>0.667215</td>\n",
       "      <td>0.619006</td>\n",
       "      <td>0.562535</td>\n",
       "      <td>-0.004973</td>\n",
       "    </tr>\n",
       "    <tr>\n",
       "      <th>GDP (Billions of Dollars)</th>\n",
       "      <td>-0.375599</td>\n",
       "      <td>0.086557</td>\n",
       "      <td>-0.327378</td>\n",
       "      <td>-0.466078</td>\n",
       "      <td>1.000000</td>\n",
       "      <td>-0.613788</td>\n",
       "      <td>-0.793024</td>\n",
       "      <td>-0.837999</td>\n",
       "      <td>0.816926</td>\n",
       "    </tr>\n",
       "    <tr>\n",
       "      <th>Employment (%)</th>\n",
       "      <td>0.136705</td>\n",
       "      <td>-0.042427</td>\n",
       "      <td>0.716681</td>\n",
       "      <td>0.667215</td>\n",
       "      <td>-0.613788</td>\n",
       "      <td>1.000000</td>\n",
       "      <td>0.540985</td>\n",
       "      <td>0.845600</td>\n",
       "      <td>-0.276046</td>\n",
       "    </tr>\n",
       "    <tr>\n",
       "      <th>Ownership Rate (%)</th>\n",
       "      <td>0.324850</td>\n",
       "      <td>0.086958</td>\n",
       "      <td>0.653145</td>\n",
       "      <td>0.619006</td>\n",
       "      <td>-0.793024</td>\n",
       "      <td>0.540985</td>\n",
       "      <td>1.000000</td>\n",
       "      <td>0.779044</td>\n",
       "      <td>-0.380323</td>\n",
       "    </tr>\n",
       "    <tr>\n",
       "      <th>Mortgage Rate (%)</th>\n",
       "      <td>0.345766</td>\n",
       "      <td>0.099563</td>\n",
       "      <td>0.652714</td>\n",
       "      <td>0.562535</td>\n",
       "      <td>-0.837999</td>\n",
       "      <td>0.845600</td>\n",
       "      <td>0.779044</td>\n",
       "      <td>1.000000</td>\n",
       "      <td>-0.511086</td>\n",
       "    </tr>\n",
       "    <tr>\n",
       "      <th>House Price Index</th>\n",
       "      <td>-0.336154</td>\n",
       "      <td>0.135679</td>\n",
       "      <td>0.245725</td>\n",
       "      <td>-0.004973</td>\n",
       "      <td>0.816926</td>\n",
       "      <td>-0.276046</td>\n",
       "      <td>-0.380323</td>\n",
       "      <td>-0.511086</td>\n",
       "      <td>1.000000</td>\n",
       "    </tr>\n",
       "  </tbody>\n",
       "</table>\n",
       "</div>"
      ],
      "text/plain": [
       "                                       Vaccancy Rate(%)  Monthly Supply  \\\n",
       "Vaccancy Rate(%)                               1.000000        0.743442   \n",
       "Monthly Supply                                 0.743442        1.000000   \n",
       "New Homes for Sale (Thousands)                 0.177757        0.216910   \n",
       "New One Family Homes Sold (Thousands)         -0.356210       -0.501126   \n",
       "GDP (Billions of Dollars)                     -0.375599        0.086557   \n",
       "Employment (%)                                 0.136705       -0.042427   \n",
       "Ownership Rate (%)                             0.324850        0.086958   \n",
       "Mortgage Rate (%)                              0.345766        0.099563   \n",
       "House Price Index                             -0.336154        0.135679   \n",
       "\n",
       "                                       New Homes for Sale (Thousands)  \\\n",
       "Vaccancy Rate(%)                                             0.177757   \n",
       "Monthly Supply                                               0.216910   \n",
       "New Homes for Sale (Thousands)                               1.000000   \n",
       "New One Family Homes Sold (Thousands)                        0.692430   \n",
       "GDP (Billions of Dollars)                                   -0.327378   \n",
       "Employment (%)                                               0.716681   \n",
       "Ownership Rate (%)                                           0.653145   \n",
       "Mortgage Rate (%)                                            0.652714   \n",
       "House Price Index                                            0.245725   \n",
       "\n",
       "                                       New One Family Homes Sold (Thousands)  \\\n",
       "Vaccancy Rate(%)                                                   -0.356210   \n",
       "Monthly Supply                                                     -0.501126   \n",
       "New Homes for Sale (Thousands)                                      0.692430   \n",
       "New One Family Homes Sold (Thousands)                               1.000000   \n",
       "GDP (Billions of Dollars)                                          -0.466078   \n",
       "Employment (%)                                                      0.667215   \n",
       "Ownership Rate (%)                                                  0.619006   \n",
       "Mortgage Rate (%)                                                   0.562535   \n",
       "House Price Index                                                  -0.004973   \n",
       "\n",
       "                                       GDP (Billions of Dollars)  \\\n",
       "Vaccancy Rate(%)                                       -0.375599   \n",
       "Monthly Supply                                          0.086557   \n",
       "New Homes for Sale (Thousands)                         -0.327378   \n",
       "New One Family Homes Sold (Thousands)                  -0.466078   \n",
       "GDP (Billions of Dollars)                               1.000000   \n",
       "Employment (%)                                         -0.613788   \n",
       "Ownership Rate (%)                                     -0.793024   \n",
       "Mortgage Rate (%)                                      -0.837999   \n",
       "House Price Index                                       0.816926   \n",
       "\n",
       "                                       Employment (%)  Ownership Rate (%)  \\\n",
       "Vaccancy Rate(%)                             0.136705            0.324850   \n",
       "Monthly Supply                              -0.042427            0.086958   \n",
       "New Homes for Sale (Thousands)               0.716681            0.653145   \n",
       "New One Family Homes Sold (Thousands)        0.667215            0.619006   \n",
       "GDP (Billions of Dollars)                   -0.613788           -0.793024   \n",
       "Employment (%)                               1.000000            0.540985   \n",
       "Ownership Rate (%)                           0.540985            1.000000   \n",
       "Mortgage Rate (%)                            0.845600            0.779044   \n",
       "House Price Index                           -0.276046           -0.380323   \n",
       "\n",
       "                                       Mortgage Rate (%)  House Price Index  \n",
       "Vaccancy Rate(%)                                0.345766          -0.336154  \n",
       "Monthly Supply                                  0.099563           0.135679  \n",
       "New Homes for Sale (Thousands)                  0.652714           0.245725  \n",
       "New One Family Homes Sold (Thousands)           0.562535          -0.004973  \n",
       "GDP (Billions of Dollars)                      -0.837999           0.816926  \n",
       "Employment (%)                                  0.845600          -0.276046  \n",
       "Ownership Rate (%)                              0.779044          -0.380323  \n",
       "Mortgage Rate (%)                               1.000000          -0.511086  \n",
       "House Price Index                              -0.511086           1.000000  "
      ]
     },
     "execution_count": 23,
     "metadata": {},
     "output_type": "execute_result"
    }
   ],
   "source": [
    "Dataframe.corr()"
   ]
  },
  {
   "cell_type": "markdown",
   "id": "breeding-english",
   "metadata": {},
   "source": [
    "Here, we can observe that GDP and Mortgage rates are the two factors that influence the HPI the most. Apart from these, Homeowner vaccancy rate, Homeownership rate and employment are the facors which have marginal impact on HPI."
   ]
  },
  {
   "cell_type": "code",
   "execution_count": 24,
   "id": "greek-citizenship",
   "metadata": {},
   "outputs": [
    {
     "data": {
      "text/plain": [
       "<AxesSubplot:>"
      ]
     },
     "execution_count": 24,
     "metadata": {},
     "output_type": "execute_result"
    },
    {
     "data": {
      "image/png": "[encoded data removed]",
      "text/plain": [
       "<Figure size 720x576 with 2 Axes>"
      ]
     },
     "metadata": {
      "needs_background": "light"
     },
     "output_type": "display_data"
    }
   ],
   "source": [
    "plt.figure(figsize=(10,8))\n",
    "sns.heatmap(Dataframe.corr(), cmap='RdBu', annot=True)"
   ]
  },
  {
   "cell_type": "markdown",
   "id": "convinced-naples",
   "metadata": {},
   "source": [
    "### Relation between GDP and HPI"
   ]
  },
  {
   "cell_type": "code",
   "execution_count": 25,
   "id": "limiting-greenhouse",
   "metadata": {
    "scrolled": false
   },
   "outputs": [
    {
     "data": {
      "text/plain": [
       "<AxesSubplot:xlabel='GDP (Billions of Dollars)', ylabel='House Price Index'>"
      ]
     },
     "execution_count": 25,
     "metadata": {},
     "output_type": "execute_result"
    },
    {
     "data": {
      "image/png": "[encoded data removed]",
      "text/plain": [
       "<Figure size 576x360 with 1 Axes>"
      ]
     },
     "metadata": {},
     "output_type": "display_data"
    }
   ],
   "source": [
    "plt.style.use('ggplot')\n",
    "plt.figure(figsize=(8,5))\n",
    "\n",
    "sns.regplot(x='GDP (Billions of Dollars)', y='House Price Index', data=Dataframe)"
   ]
  },
  {
   "cell_type": "code",
   "execution_count": 26,
   "id": "victorian-praise",
   "metadata": {},
   "outputs": [
    {
     "data": {
      "image/png": "[encoded data removed]",
      "text/plain": [
       "<Figure size 576x360 with 1 Axes>"
      ]
     },
     "metadata": {},
     "output_type": "display_data"
    }
   ],
   "source": [
    "plt.style.use('ggplot')\n",
    "fig = plt.figure(figsize=(8,5))\n",
    "\n",
    "gdp = Dataframe['GDP (Billions of Dollars)'].copy()\n",
    "ax = gdp.plot(color='gray')\n",
    "ax.set(ylabel='GDP in Billion Dollars')\n",
    "plt.show()"
   ]
  },
  {
   "cell_type": "markdown",
   "id": "public-bulgarian",
   "metadata": {},
   "source": [
    "It can be observed that there is a strong relationship between GDP and Housing Prices (Graph 1). With an increase in GDP, there is an increase in per capita income which, in return also increases the lifestlye of the citizens. Thus, more people can afford to buy a house, leading to increase in the demand.\n",
    "\n",
    "Here, with the increase in the Gross-Domestic Product over these years, it an be seen that there was an increment in the Housing prices. Though the HPI started decrementing after the 2008 recession, it again went up with consisitent increase in GDP."
   ]
  },
  {
   "cell_type": "markdown",
   "id": "twelve-worker",
   "metadata": {},
   "source": [
    "### Relation between 30-Year Fixed Mortgage Rates and HPI"
   ]
  },
  {
   "cell_type": "code",
   "execution_count": 27,
   "id": "occupied-introduction",
   "metadata": {},
   "outputs": [
    {
     "data": {
      "text/plain": [
       "<AxesSubplot:xlabel='Mortgage Rate (%)', ylabel='House Price Index'>"
      ]
     },
     "execution_count": 27,
     "metadata": {},
     "output_type": "execute_result"
    },
    {
     "data": {
      "image/png": "[encoded data removed]",
      "text/plain": [
       "<Figure size 576x360 with 1 Axes>"
      ]
     },
     "metadata": {},
     "output_type": "display_data"
    }
   ],
   "source": [
    "plt.style.use('ggplot')\n",
    "plt.figure(figsize=(8,5))\n",
    "\n",
    "sns.regplot(x='Mortgage Rate (%)', y='House Price Index', data=Dataframe)"
   ]
  },
  {
   "cell_type": "markdown",
   "id": "eleven-bench",
   "metadata": {},
   "source": [
    "It is evident that as the mortgage rates increase, people tend to give it a second thought before investing in home."
   ]
  },
  {
   "cell_type": "code",
   "execution_count": 28,
   "id": "interpreted-london",
   "metadata": {},
   "outputs": [
    {
     "data": {
      "image/png": "[encoded data removed]",
      "text/plain": [
       "<Figure size 576x360 with 1 Axes>"
      ]
     },
     "metadata": {},
     "output_type": "display_data"
    }
   ],
   "source": [
    "plt.style.use('ggplot')\n",
    "fig = plt.figure(figsize=(8,5))\n",
    "\n",
    "Mortgage = Dataframe['Mortgage Rate (%)'].copy()\n",
    "ax = Mortgage.plot(color='gray')\n",
    "ax.set(ylabel='Mortgage Rates (%)')\n",
    "plt.show()"
   ]
  },
  {
   "cell_type": "markdown",
   "id": "sublime-underground",
   "metadata": {},
   "source": [
    "With Mortgage rates consistently falling, it has definitely raised the demand for housing prices over the two decades. With decrease in the rates, the affordability increases as more people can now think of purchasing a home as they will have to pay less rates compared to previous years."
   ]
  },
  {
   "cell_type": "markdown",
   "id": "postal-blink",
   "metadata": {},
   "source": [
    "### Realtionship between Homeowner Vaccancy Rates and HPI"
   ]
  },
  {
   "cell_type": "code",
   "execution_count": 29,
   "id": "southern-knowing",
   "metadata": {},
   "outputs": [
    {
     "data": {
      "text/plain": [
       "<AxesSubplot:xlabel='Vaccancy Rate(%)', ylabel='House Price Index'>"
      ]
     },
     "execution_count": 29,
     "metadata": {},
     "output_type": "execute_result"
    },
    {
     "data": {
      "image/png": "[encoded data removed]",
      "text/plain": [
       "<Figure size 576x360 with 1 Axes>"
      ]
     },
     "metadata": {},
     "output_type": "display_data"
    }
   ],
   "source": [
    "plt.style.use('ggplot')\n",
    "plt.figure(figsize=(8,5))\n",
    "\n",
    "sns.regplot(x='Vaccancy Rate(%)', y='House Price Index', data=Dataframe)"
   ]
  },
  {
   "cell_type": "markdown",
   "id": "inside-suicide",
   "metadata": {},
   "source": [
    "The homeowner vacancy rate is defined as the proportion of homeowner inventory that is vacant and for sale."
   ]
  },
  {
   "cell_type": "code",
   "execution_count": 30,
   "id": "jewish-hungary",
   "metadata": {},
   "outputs": [
    {
     "data": {
      "image/png": "[encoded data removed]",
      "text/plain": [
       "<Figure size 576x360 with 1 Axes>"
      ]
     },
     "metadata": {},
     "output_type": "display_data"
    }
   ],
   "source": [
    "plt.style.use('ggplot')\n",
    "fig = plt.figure(figsize=(8,5))\n",
    "\n",
    "vaccancy = Dataframe['Vaccancy Rate(%)'].copy()\n",
    "ax = vaccancy.plot(color='blue')\n",
    "ax.set(ylabel='Homeowner Vaccancy Rate (%)')\n",
    "plt.show()"
   ]
  },
  {
   "cell_type": "markdown",
   "id": "other-giving",
   "metadata": {},
   "source": [
    "Here, there is a minor relationship as compared to other two factors but, it can reduce the housing prices as more the number of houses are available on sale, the prices are bound to decrease as the supply outrights the demand in this case.\n",
    "\n",
    "Since 2008, the vaccancy rate has been conisitently decreasing (plot 2) thus, curbing the supply and increasing the rates."
   ]
  },
  {
   "cell_type": "markdown",
   "id": "educated-hygiene",
   "metadata": {},
   "source": [
    "### Relationship between Month's supply and HPI"
   ]
  },
  {
   "cell_type": "code",
   "execution_count": 31,
   "id": "greenhouse-hazard",
   "metadata": {},
   "outputs": [
    {
     "data": {
      "text/plain": [
       "<AxesSubplot:xlabel='Monthly Supply', ylabel='House Price Index'>"
      ]
     },
     "execution_count": 31,
     "metadata": {},
     "output_type": "execute_result"
    },
    {
     "data": {
      "image/png": "[encoded data removed]",
      "text/plain": [
       "<Figure size 576x360 with 1 Axes>"
      ]
     },
     "metadata": {},
     "output_type": "display_data"
    }
   ],
   "source": [
    "plt.style.use('ggplot')\n",
    "plt.figure(figsize=(8,5))\n",
    "\n",
    "sns.regplot(x='Monthly Supply', y='House Price Index', data=Dataframe)"
   ]
  },
  {
   "cell_type": "markdown",
   "id": "above-rings",
   "metadata": {},
   "source": [
    "Months’ supply refers to the number of months it would take for the current inventory of homes on the market to sell given the current sales pace. Historically, six months of supply is associated with moderate price appreciation."
   ]
  },
  {
   "cell_type": "markdown",
   "id": "indian-amino",
   "metadata": {},
   "source": [
    "### Relation between Homeownership Rate and  HPI"
   ]
  },
  {
   "cell_type": "code",
   "execution_count": 32,
   "id": "fourth-doctor",
   "metadata": {},
   "outputs": [
    {
     "data": {
      "text/plain": [
       "<AxesSubplot:xlabel='Ownership Rate (%)', ylabel='House Price Index'>"
      ]
     },
     "execution_count": 32,
     "metadata": {},
     "output_type": "execute_result"
    },
    {
     "data": {
      "image/png": "[encoded data removed]",
      "text/plain": [
       "<Figure size 576x360 with 1 Axes>"
      ]
     },
     "metadata": {},
     "output_type": "display_data"
    }
   ],
   "source": [
    "plt.style.use('ggplot')\n",
    "plt.figure(figsize=(8,5))\n",
    "\n",
    "sns.regplot(x='Ownership Rate (%)', y='House Price Index', data=Dataframe)"
   ]
  },
  {
   "cell_type": "markdown",
   "id": "thick-motivation",
   "metadata": {},
   "source": [
    "The homeownership rate is the percentage of U.S. homes that are owner-occupied. An increase in ownership rate brings down the supply rates, thus giving housing price a surge."
   ]
  },
  {
   "cell_type": "code",
   "execution_count": 33,
   "id": "vertical-reliance",
   "metadata": {},
   "outputs": [
    {
     "data": {
      "image/png": "[encoded data removed]",
      "text/plain": [
       "<Figure size 576x360 with 1 Axes>"
      ]
     },
     "metadata": {},
     "output_type": "display_data"
    }
   ],
   "source": [
    "plt.style.use('ggplot')\n",
    "fig = plt.figure(figsize=(8,5))\n",
    "\n",
    "ownership = Dataframe['Ownership Rate (%)'].copy()\n",
    "ax = ownership.plot(color='red')\n",
    "ax.set(ylabel='Homeownership Rate (%)')\n",
    "plt.show()"
   ]
  },
  {
   "cell_type": "markdown",
   "id": "simple-context",
   "metadata": {},
   "source": [
    "Historically speaking, the homeownership rate has risen above the 50-year low it reached during the second quarter of 2016 when it clocked in at 62.9 percent. Still, it's several percentage points away from its pre-recession peak of 69.2 percent. "
   ]
  },
  {
   "cell_type": "markdown",
   "id": "legal-coordinate",
   "metadata": {},
   "source": [
    "These were the some of the key factors, which drive the housing prices."
   ]
  },
  {
   "cell_type": "markdown",
   "id": "detailed-logistics",
   "metadata": {},
   "source": [
    "### Model"
   ]
  },
  {
   "cell_type": "code",
   "execution_count": 34,
   "id": "worthy-macro",
   "metadata": {},
   "outputs": [
    {
     "data": {
      "text/html": [
       "<div>\n",
       "<style scoped>\n",
       "    .dataframe tbody tr th:only-of-type {\n",
       "        vertical-align: middle;\n",
       "    }\n",
       "\n",
       "    .dataframe tbody tr th {\n",
       "        vertical-align: top;\n",
       "    }\n",
       "\n",
       "    .dataframe thead th {\n",
       "        text-align: right;\n",
       "    }\n",
       "</style>\n",
       "<table border=\"1\" class=\"dataframe\">\n",
       "  <thead>\n",
       "    <tr style=\"text-align: right;\">\n",
       "      <th></th>\n",
       "      <th>Vaccancy Rate(%)</th>\n",
       "      <th>Monthly Supply</th>\n",
       "      <th>New Homes for Sale (Thousands)</th>\n",
       "      <th>New One Family Homes Sold (Thousands)</th>\n",
       "      <th>GDP (Billions of Dollars)</th>\n",
       "      <th>Employment (%)</th>\n",
       "      <th>Ownership Rate (%)</th>\n",
       "      <th>Mortgage Rate (%)</th>\n",
       "      <th>House Price Index</th>\n",
       "    </tr>\n",
       "  </thead>\n",
       "  <tbody>\n",
       "    <tr>\n",
       "      <th>count</th>\n",
       "      <td>81.000000</td>\n",
       "      <td>81.000000</td>\n",
       "      <td>81.000000</td>\n",
       "      <td>81.000000</td>\n",
       "      <td>81.000000</td>\n",
       "      <td>81.000000</td>\n",
       "      <td>81.000000</td>\n",
       "      <td>81.000000</td>\n",
       "      <td>81.000000</td>\n",
       "    </tr>\n",
       "    <tr>\n",
       "      <th>mean</th>\n",
       "      <td>1.967901</td>\n",
       "      <td>5.823901</td>\n",
       "      <td>310.193432</td>\n",
       "      <td>692.786012</td>\n",
       "      <td>15744.029988</td>\n",
       "      <td>60.621370</td>\n",
       "      <td>66.439506</td>\n",
       "      <td>4.977778</td>\n",
       "      <td>163.824222</td>\n",
       "    </tr>\n",
       "    <tr>\n",
       "      <th>std</th>\n",
       "      <td>0.486011</td>\n",
       "      <td>1.905639</td>\n",
       "      <td>115.322591</td>\n",
       "      <td>302.606273</td>\n",
       "      <td>3333.521439</td>\n",
       "      <td>2.122259</td>\n",
       "      <td>1.894049</td>\n",
       "      <td>1.201978</td>\n",
       "      <td>29.184834</td>\n",
       "    </tr>\n",
       "    <tr>\n",
       "      <th>min</th>\n",
       "      <td>0.900000</td>\n",
       "      <td>3.567000</td>\n",
       "      <td>143.000000</td>\n",
       "      <td>292.333000</td>\n",
       "      <td>10439.025000</td>\n",
       "      <td>52.900000</td>\n",
       "      <td>62.900000</td>\n",
       "      <td>2.761000</td>\n",
       "      <td>108.273000</td>\n",
       "    </tr>\n",
       "    <tr>\n",
       "      <th>25%</th>\n",
       "      <td>1.700000</td>\n",
       "      <td>4.300000</td>\n",
       "      <td>215.000000</td>\n",
       "      <td>441.000000</td>\n",
       "      <td>13332.316000</td>\n",
       "      <td>58.800000</td>\n",
       "      <td>64.800000</td>\n",
       "      <td>3.922000</td>\n",
       "      <td>142.285000</td>\n",
       "    </tr>\n",
       "    <tr>\n",
       "      <th>50%</th>\n",
       "      <td>1.900000</td>\n",
       "      <td>5.367000</td>\n",
       "      <td>301.333000</td>\n",
       "      <td>607.333000</td>\n",
       "      <td>15240.843000</td>\n",
       "      <td>60.433000</td>\n",
       "      <td>66.900000</td>\n",
       "      <td>4.785000</td>\n",
       "      <td>163.481000</td>\n",
       "    </tr>\n",
       "    <tr>\n",
       "      <th>75%</th>\n",
       "      <td>2.400000</td>\n",
       "      <td>6.633000</td>\n",
       "      <td>365.667000</td>\n",
       "      <td>946.000000</td>\n",
       "      <td>18378.803000</td>\n",
       "      <td>62.533000</td>\n",
       "      <td>68.000000</td>\n",
       "      <td>6.075000</td>\n",
       "      <td>183.323000</td>\n",
       "    </tr>\n",
       "    <tr>\n",
       "      <th>max</th>\n",
       "      <td>2.900000</td>\n",
       "      <td>11.400000</td>\n",
       "      <td>565.667000</td>\n",
       "      <td>1296.000000</td>\n",
       "      <td>21747.394000</td>\n",
       "      <td>64.333000</td>\n",
       "      <td>69.200000</td>\n",
       "      <td>7.621000</td>\n",
       "      <td>232.546000</td>\n",
       "    </tr>\n",
       "  </tbody>\n",
       "</table>\n",
       "</div>"
      ],
      "text/plain": [
       "       Vaccancy Rate(%)  Monthly Supply  New Homes for Sale (Thousands)  \\\n",
       "count         81.000000       81.000000                       81.000000   \n",
       "mean           1.967901        5.823901                      310.193432   \n",
       "std            0.486011        1.905639                      115.322591   \n",
       "min            0.900000        3.567000                      143.000000   \n",
       "25%            1.700000        4.300000                      215.000000   \n",
       "50%            1.900000        5.367000                      301.333000   \n",
       "75%            2.400000        6.633000                      365.667000   \n",
       "max            2.900000       11.400000                      565.667000   \n",
       "\n",
       "       New One Family Homes Sold (Thousands)  GDP (Billions of Dollars)  \\\n",
       "count                              81.000000                  81.000000   \n",
       "mean                              692.786012               15744.029988   \n",
       "std                               302.606273                3333.521439   \n",
       "min                               292.333000               10439.025000   \n",
       "25%                               441.000000               13332.316000   \n",
       "50%                               607.333000               15240.843000   \n",
       "75%                               946.000000               18378.803000   \n",
       "max                              1296.000000               21747.394000   \n",
       "\n",
       "       Employment (%)  Ownership Rate (%)  Mortgage Rate (%)  \\\n",
       "count       81.000000           81.000000          81.000000   \n",
       "mean        60.621370           66.439506           4.977778   \n",
       "std          2.122259            1.894049           1.201978   \n",
       "min         52.900000           62.900000           2.761000   \n",
       "25%         58.800000           64.800000           3.922000   \n",
       "50%         60.433000           66.900000           4.785000   \n",
       "75%         62.533000           68.000000           6.075000   \n",
       "max         64.333000           69.200000           7.621000   \n",
       "\n",
       "       House Price Index  \n",
       "count          81.000000  \n",
       "mean          163.824222  \n",
       "std            29.184834  \n",
       "min           108.273000  \n",
       "25%           142.285000  \n",
       "50%           163.481000  \n",
       "75%           183.323000  \n",
       "max           232.546000  "
      ]
     },
     "execution_count": 34,
     "metadata": {},
     "output_type": "execute_result"
    }
   ],
   "source": [
    "Dataframe.describe()"
   ]
  },
  {
   "cell_type": "code",
   "execution_count": 35,
   "id": "boolean-seeker",
   "metadata": {},
   "outputs": [
    {
     "name": "stderr",
     "output_type": "stream",
     "text": [
      "You are using pip version 18.1, however version 21.0.1 is available.\n",
      "You should consider upgrading via the 'python -m pip install --upgrade pip' command.\n"
     ]
    },
    {
     "name": "stdout",
     "output_type": "stream",
     "text": [
      "Requirement already satisfied: scikit-learn in c:\\users\\paritosh\\appdata\\local\\programs\\python\\python37\\lib\\site-packages (0.24.1)\n",
      "Requirement already satisfied: numpy>=1.13.3 in c:\\users\\paritosh\\appdata\\local\\programs\\python\\python37\\lib\\site-packages (from scikit-learn) (1.20.1)\n",
      "Requirement already satisfied: joblib>=0.11 in c:\\users\\paritosh\\appdata\\local\\programs\\python\\python37\\lib\\site-packages (from scikit-learn) (1.0.1)\n",
      "Requirement already satisfied: scipy>=0.19.1 in c:\\users\\paritosh\\appdata\\local\\programs\\python\\python37\\lib\\site-packages (from scikit-learn) (1.6.1)\n",
      "Requirement already satisfied: threadpoolctl>=2.0.0 in c:\\users\\paritosh\\appdata\\local\\programs\\python\\python37\\lib\\site-packages (from scikit-learn) (2.1.0)\n"
     ]
    }
   ],
   "source": [
    "import sys\n",
    "!{sys.executable} -m pip install scikit-learn\n",
    "from sklearn.linear_model import LinearRegression\n",
    "from sklearn.metrics import mean_squared_error\n",
    "from sklearn.model_selection import train_test_split"
   ]
  },
  {
   "cell_type": "markdown",
   "id": "unnecessary-pleasure",
   "metadata": {},
   "source": [
    "### Splitting features and labels"
   ]
  },
  {
   "cell_type": "code",
   "execution_count": 36,
   "id": "about-fellowship",
   "metadata": {},
   "outputs": [],
   "source": [
    "X,y = Dataframe.iloc[:,0:8],Dataframe.iloc[:,8]"
   ]
  },
  {
   "cell_type": "code",
   "execution_count": 37,
   "id": "sharing-light",
   "metadata": {},
   "outputs": [
    {
     "data": {
      "text/html": [
       "<div>\n",
       "<style scoped>\n",
       "    .dataframe tbody tr th:only-of-type {\n",
       "        vertical-align: middle;\n",
       "    }\n",
       "\n",
       "    .dataframe tbody tr th {\n",
       "        vertical-align: top;\n",
       "    }\n",
       "\n",
       "    .dataframe thead th {\n",
       "        text-align: right;\n",
       "    }\n",
       "</style>\n",
       "<table border=\"1\" class=\"dataframe\">\n",
       "  <thead>\n",
       "    <tr style=\"text-align: right;\">\n",
       "      <th></th>\n",
       "      <th>Vaccancy Rate(%)</th>\n",
       "      <th>Monthly Supply</th>\n",
       "      <th>New Homes for Sale (Thousands)</th>\n",
       "      <th>New One Family Homes Sold (Thousands)</th>\n",
       "      <th>GDP (Billions of Dollars)</th>\n",
       "      <th>Employment (%)</th>\n",
       "      <th>Ownership Rate (%)</th>\n",
       "      <th>Mortgage Rate (%)</th>\n",
       "    </tr>\n",
       "    <tr>\n",
       "      <th>DATE</th>\n",
       "      <th></th>\n",
       "      <th></th>\n",
       "      <th></th>\n",
       "      <th></th>\n",
       "      <th></th>\n",
       "      <th></th>\n",
       "      <th></th>\n",
       "      <th></th>\n",
       "    </tr>\n",
       "  </thead>\n",
       "  <tbody>\n",
       "    <tr>\n",
       "      <th>2000-10-01</th>\n",
       "      <td>1.6</td>\n",
       "      <td>3.933</td>\n",
       "      <td>301.333</td>\n",
       "      <td>932.000</td>\n",
       "      <td>10439.025</td>\n",
       "      <td>64.300</td>\n",
       "      <td>67.5</td>\n",
       "      <td>7.621</td>\n",
       "    </tr>\n",
       "    <tr>\n",
       "      <th>2001-01-01</th>\n",
       "      <td>1.5</td>\n",
       "      <td>3.767</td>\n",
       "      <td>294.667</td>\n",
       "      <td>946.000</td>\n",
       "      <td>10472.879</td>\n",
       "      <td>64.333</td>\n",
       "      <td>67.5</td>\n",
       "      <td>7.007</td>\n",
       "    </tr>\n",
       "    <tr>\n",
       "      <th>2001-04-01</th>\n",
       "      <td>1.8</td>\n",
       "      <td>4.033</td>\n",
       "      <td>296.667</td>\n",
       "      <td>892.000</td>\n",
       "      <td>10597.822</td>\n",
       "      <td>63.833</td>\n",
       "      <td>67.7</td>\n",
       "      <td>7.130</td>\n",
       "    </tr>\n",
       "    <tr>\n",
       "      <th>2001-07-01</th>\n",
       "      <td>1.9</td>\n",
       "      <td>4.333</td>\n",
       "      <td>307.667</td>\n",
       "      <td>866.333</td>\n",
       "      <td>10596.294</td>\n",
       "      <td>63.467</td>\n",
       "      <td>68.1</td>\n",
       "      <td>6.964</td>\n",
       "    </tr>\n",
       "    <tr>\n",
       "      <th>2001-10-01</th>\n",
       "      <td>1.8</td>\n",
       "      <td>4.067</td>\n",
       "      <td>308.000</td>\n",
       "      <td>924.667</td>\n",
       "      <td>10660.294</td>\n",
       "      <td>63.033</td>\n",
       "      <td>68.0</td>\n",
       "      <td>6.771</td>\n",
       "    </tr>\n",
       "  </tbody>\n",
       "</table>\n",
       "</div>"
      ],
      "text/plain": [
       "            Vaccancy Rate(%)  Monthly Supply  New Homes for Sale (Thousands)  \\\n",
       "DATE                                                                           \n",
       "2000-10-01               1.6           3.933                         301.333   \n",
       "2001-01-01               1.5           3.767                         294.667   \n",
       "2001-04-01               1.8           4.033                         296.667   \n",
       "2001-07-01               1.9           4.333                         307.667   \n",
       "2001-10-01               1.8           4.067                         308.000   \n",
       "\n",
       "            New One Family Homes Sold (Thousands)  GDP (Billions of Dollars)  \\\n",
       "DATE                                                                           \n",
       "2000-10-01                                932.000                  10439.025   \n",
       "2001-01-01                                946.000                  10472.879   \n",
       "2001-04-01                                892.000                  10597.822   \n",
       "2001-07-01                                866.333                  10596.294   \n",
       "2001-10-01                                924.667                  10660.294   \n",
       "\n",
       "            Employment (%)  Ownership Rate (%)  Mortgage Rate (%)  \n",
       "DATE                                                               \n",
       "2000-10-01          64.300                67.5              7.621  \n",
       "2001-01-01          64.333                67.5              7.007  \n",
       "2001-04-01          63.833                67.7              7.130  \n",
       "2001-07-01          63.467                68.1              6.964  \n",
       "2001-10-01          63.033                68.0              6.771  "
      ]
     },
     "execution_count": 37,
     "metadata": {},
     "output_type": "execute_result"
    }
   ],
   "source": [
    "X.head()"
   ]
  },
  {
   "cell_type": "code",
   "execution_count": 38,
   "id": "possible-vanilla",
   "metadata": {},
   "outputs": [
    {
     "data": {
      "text/plain": [
       "DATE\n",
       "2000-10-01    108.273\n",
       "2001-01-01    110.484\n",
       "2001-04-01    112.202\n",
       "2001-07-01    114.156\n",
       "2001-10-01    115.871\n",
       "Name: House Price Index, dtype: float64"
      ]
     },
     "execution_count": 38,
     "metadata": {},
     "output_type": "execute_result"
    }
   ],
   "source": [
    "y.head()"
   ]
  },
  {
   "cell_type": "code",
   "execution_count": 39,
   "id": "minus-intention",
   "metadata": {},
   "outputs": [
    {
     "data": {
      "text/html": [
       "<div>\n",
       "<style scoped>\n",
       "    .dataframe tbody tr th:only-of-type {\n",
       "        vertical-align: middle;\n",
       "    }\n",
       "\n",
       "    .dataframe tbody tr th {\n",
       "        vertical-align: top;\n",
       "    }\n",
       "\n",
       "    .dataframe thead th {\n",
       "        text-align: right;\n",
       "    }\n",
       "</style>\n",
       "<table border=\"1\" class=\"dataframe\">\n",
       "  <thead>\n",
       "    <tr style=\"text-align: right;\">\n",
       "      <th></th>\n",
       "      <th>House Price Index</th>\n",
       "    </tr>\n",
       "    <tr>\n",
       "      <th>DATE</th>\n",
       "      <th></th>\n",
       "    </tr>\n",
       "  </thead>\n",
       "  <tbody>\n",
       "    <tr>\n",
       "      <th>2000-10-01</th>\n",
       "      <td>108.273</td>\n",
       "    </tr>\n",
       "    <tr>\n",
       "      <th>2001-01-01</th>\n",
       "      <td>110.484</td>\n",
       "    </tr>\n",
       "    <tr>\n",
       "      <th>2001-04-01</th>\n",
       "      <td>112.202</td>\n",
       "    </tr>\n",
       "    <tr>\n",
       "      <th>2001-07-01</th>\n",
       "      <td>114.156</td>\n",
       "    </tr>\n",
       "    <tr>\n",
       "      <th>2001-10-01</th>\n",
       "      <td>115.871</td>\n",
       "    </tr>\n",
       "    <tr>\n",
       "      <th>...</th>\n",
       "      <td>...</td>\n",
       "    </tr>\n",
       "    <tr>\n",
       "      <th>2019-10-01</th>\n",
       "      <td>212.534</td>\n",
       "    </tr>\n",
       "    <tr>\n",
       "      <th>2020-01-01</th>\n",
       "      <td>215.629</td>\n",
       "    </tr>\n",
       "    <tr>\n",
       "      <th>2020-04-01</th>\n",
       "      <td>217.939</td>\n",
       "    </tr>\n",
       "    <tr>\n",
       "      <th>2020-07-01</th>\n",
       "      <td>222.563</td>\n",
       "    </tr>\n",
       "    <tr>\n",
       "      <th>2020-10-01</th>\n",
       "      <td>232.546</td>\n",
       "    </tr>\n",
       "  </tbody>\n",
       "</table>\n",
       "<p>81 rows × 1 columns</p>\n",
       "</div>"
      ],
      "text/plain": [
       "            House Price Index\n",
       "DATE                         \n",
       "2000-10-01            108.273\n",
       "2001-01-01            110.484\n",
       "2001-04-01            112.202\n",
       "2001-07-01            114.156\n",
       "2001-10-01            115.871\n",
       "...                       ...\n",
       "2019-10-01            212.534\n",
       "2020-01-01            215.629\n",
       "2020-04-01            217.939\n",
       "2020-07-01            222.563\n",
       "2020-10-01            232.546\n",
       "\n",
       "[81 rows x 1 columns]"
      ]
     },
     "execution_count": 39,
     "metadata": {},
     "output_type": "execute_result"
    }
   ],
   "source": [
    "y.to_frame()"
   ]
  },
  {
   "cell_type": "markdown",
   "id": "greatest-village",
   "metadata": {},
   "source": [
    "### Generating training and test data"
   ]
  },
  {
   "cell_type": "code",
   "execution_count": 40,
   "id": "latter-receiver",
   "metadata": {},
   "outputs": [],
   "source": [
    "x_train, x_test, y_train, y_test = train_test_split(X, y, test_size=0.3, random_state=42)"
   ]
  },
  {
   "cell_type": "markdown",
   "id": "foster-offer",
   "metadata": {},
   "source": [
    "### Machine Learning Model"
   ]
  },
  {
   "cell_type": "code",
   "execution_count": 41,
   "id": "severe-supplement",
   "metadata": {},
   "outputs": [
    {
     "name": "stdout",
     "output_type": "stream",
     "text": [
      "Accuracy of the model: 0.99\n",
      "Root mean squared error: 2.18\n"
     ]
    }
   ],
   "source": [
    "from sklearn.pipeline import Pipeline\n",
    "from sklearn.preprocessing import StandardScaler, MinMaxScaler\n",
    "\n",
    "Input = [('Scaler',MinMaxScaler()),('Scale',StandardScaler()),('model',LinearRegression())]\n",
    "\n",
    "pipe = Pipeline(Input)\n",
    "pipe.fit(x_train, y_train)\n",
    "y_hat = pipe.predict(x_test)\n",
    "\n",
    "print('Accuracy of the model:',round(pipe.score(x_test, y_test), 2))\n",
    "rmse = mean_squared_error(y_test, y_hat, squared=False)\n",
    "print('Root mean squared error:',round(rmse, 2))"
   ]
  },
  {
   "cell_type": "markdown",
   "id": "diagnostic-safety",
   "metadata": {},
   "source": [
    "The model yields an accuracy of 99% which is indeed a good sign."
   ]
  },
  {
   "cell_type": "code",
   "execution_count": 42,
   "id": "tracked-tribe",
   "metadata": {},
   "outputs": [
    {
     "data": {
      "text/plain": [
       "1.6107539731032279"
      ]
     },
     "execution_count": 42,
     "metadata": {},
     "output_type": "execute_result"
    }
   ],
   "source": [
    "from sklearn.metrics import mean_absolute_error\n",
    "\n",
    "mae = mean_absolute_error(y_test, y_hat)\n",
    "mae"
   ]
  },
  {
   "cell_type": "markdown",
   "id": "geographic-reminder",
   "metadata": {},
   "source": [
    "### Feature Importance"
   ]
  },
  {
   "cell_type": "code",
   "execution_count": 43,
   "id": "sudden-barbados",
   "metadata": {},
   "outputs": [
    {
     "name": "stdout",
     "output_type": "stream",
     "text": [
      "[10.8517074   0.69902457  3.75078105  0.10032804 98.84037712  4.54879466\n",
      "  5.991708   19.99832619]\n"
     ]
    }
   ],
   "source": [
    "from sklearn.feature_selection import SelectKBest, f_regression\n",
    "\n",
    "fs = SelectKBest(score_func=f_regression, k='all')\n",
    "fs.fit(x_train, y_train)\n",
    "fs.transform(x_train)\n",
    "print(fs.scores_)"
   ]
  },
  {
   "cell_type": "code",
   "execution_count": 44,
   "id": "painted-shirt",
   "metadata": {},
   "outputs": [
    {
     "data": {
      "image/png": "[encoded data removed]",
      "text/plain": [
       "<Figure size 432x288 with 1 Axes>"
      ]
     },
     "metadata": {},
     "output_type": "display_data"
    }
   ],
   "source": [
    "scores = fs.scores_\n",
    "\n",
    "values = ['Vaccancy Rate(%)','Monthly Supply','New Homes for Sale (Thousands)','New One Family Homes Sold (Thousands)','GDP (Billions of Dollars)','Employment (%)','Ownership Rate (%)','Mortgage Rate (%)']\n",
    "position = (0,1,2,3,4,5,6,7)\n",
    "\n",
    "plt.barh([i for i in range(len(scores))], scores)\n",
    "plt.xlabel('Scores')\n",
    "plt.yticks(position, values)\n",
    "plt.show()"
   ]
  },
  {
   "cell_type": "markdown",
   "id": "emotional-gentleman",
   "metadata": {},
   "source": [
    "Here, it can be seen that GDP, Mortgage Rates and Vaccancy Rates are the features with considerably higher amount of influence."
   ]
  }
 ],
 "metadata": {
  "kernelspec": {
   "display_name": "Python 3",
   "language": "python",
   "name": "python3"
  },
  "language_info": {
   "codemirror_mode": {
    "name": "ipython",
    "version": 3
   },
   "file_extension": ".py",
   "mimetype": "text/x-python",
   "name": "python",
   "nbconvert_exporter": "python",
   "pygments_lexer": "ipython3",
   "version": "3.7.2"
  }
 },
 "nbformat": 4,
 "nbformat_minor": 5
}
